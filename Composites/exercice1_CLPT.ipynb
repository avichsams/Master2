{
 "cells": [
  {
   "cell_type": "markdown",
   "metadata": {},
   "source": [
    "# Exercice 1 CLPT "
   ]
  },
  {
   "cell_type": "markdown",
   "metadata": {},
   "source": [
    "## Equations de la CLPT thermo-élastique :"
   ]
  },
  {
   "cell_type": "markdown",
   "metadata": {},
   "source": [
    "\\begin{equation}\n",
    "\\left(\\begin{array}{c} \n",
    "N \\\\\n",
    "M\n",
    "\\end{array}\\right)=\n",
    "\\left(\\begin{array}{cc} \n",
    "A & B\\\\\n",
    "B & D\n",
    "\\end{array}\\right)\n",
    "\\left(\\begin{array}{c} \n",
    "\\epsilon_0 \\\\\n",
    "K \n",
    "\\end{array}\\right)-t_0\n",
    "\\left(\\begin{array}{c} \n",
    "U \\\\\n",
    "V\n",
    "\\end{array}\\right)-\\frac{\\Delta t_0}{h}\n",
    "\\left(\\begin{array}{c} \n",
    "V \\\\\n",
    "W\n",
    "\\end{array}\\right)\n",
    "\\end{equation}"
   ]
  },
  {
   "cell_type": "markdown",
   "metadata": {},
   "source": [
    "## Etude de la reponses des plaques pour N=M=0 :"
   ]
  },
  {
   "cell_type": "markdown",
   "metadata": {},
   "source": [
    "l'équation devient :\n",
    "\\begin{equation}\n",
    "\\left(\\begin{array}{c} \n",
    "\\epsilon_0 \\\\\n",
    "K \n",
    "\\end{array}\\right)=\n",
    "\\left(\\begin{array}{cc} \n",
    "A & B\\\\\n",
    "B & D\n",
    "\\end{array}\\right)^{-1}\n",
    "\\left(\\begin{array}{c} \n",
    "N^{th} \\\\\n",
    "M^{th} \n",
    "\\end{array}\\right)\n",
    "\\end{equation}\n",
    "avec : \n",
    "$\\left(\\begin{array}{c} \n",
    "N^{th} \\\\\n",
    "M^{th} \n",
    "\\end{array}\\right) = -t_0\n",
    "\\left(\\begin{array}{c} \n",
    "U \\\\\n",
    "V\n",
    "\\end{array}\\right)-\\frac{\\Delta t_0}{h}\n",
    "\\left(\\begin{array}{c} \n",
    "V \\\\\n",
    "W\n",
    "\\end{array}\\right)$"
   ]
  },
  {
   "cell_type": "code",
   "execution_count": 30,
   "metadata": {},
   "outputs": [],
   "source": [
    "import sympy as sp\n",
    "import sympy\n",
    "import numpy as np\n",
    "from math import *\n",
    "import matplotlib.pyplot as plt\n",
    "from CLPT_sympy import CLPT_symbol\n",
    "from CLPT_numpy import CLPT_valeur"
   ]
  },
  {
   "cell_type": "code",
   "execution_count": 2,
   "metadata": {},
   "outputs": [],
   "source": [
    "# param \n",
    "\n",
    "E1,E2     = 181*1E+9,10.2*1E+9 #Pa\n",
    "G12       = 7.2*1E+9 #Pa\n",
    "ν12,ν21   = 0.28,0.28\n",
    "𝛼1,𝛼2,𝛼3  = -0.1*1E-8,25.6*1E-8,0\n",
    "to        = -200\n",
    "Dt        = 200\n",
    "t         = 0.10*1E-3\n",
    "𝛼         = [𝛼1,𝛼2]\n",
    "\n",
    "\n",
    "z         = sp.symbols(\"z\")\n",
    "y         = sp.symbols(\"y\")\n",
    "x         = sp.symbols(\"x\")\n",
    "δ𝑘         = sp.symbols(\"δ_𝑘\")\n",
    "𝑘         = sp.symbols(\"𝑘\")\n",
    " "
   ]
  },
  {
   "cell_type": "code",
   "execution_count": 21,
   "metadata": {},
   "outputs": [],
   "source": [
    "Delta = [0,sp.pi/2] # orientation des plaque \n",
    "h = len(Delta)*t\n",
    "clpt_sym=CLPT_symbol(Delta) ## pour afficher les express"
   ]
  },
  {
   "cell_type": "markdown",
   "metadata": {},
   "source": [
    "###  Expression des tenseur A,B .... "
   ]
  },
  {
   "cell_type": "code",
   "execution_count": 4,
   "metadata": {},
   "outputs": [
    {
     "name": "stdout",
     "output_type": "stream",
     "text": [
      "             A                             B\n"
     ]
    },
    {
     "data": {
      "text/latex": [
       "$\\displaystyle \\left( \\left[\\begin{matrix}- \\frac{t \\left(E_{1} + E_{2}\\right)}{ν_{12} ν_{21} - 1.0} & - \\frac{2.0 E_{2} t ν_{12}}{ν_{12} ν_{21} - 1.0} & 0\\\\- \\frac{2.0 E_{2} t ν_{12}}{ν_{12} ν_{21} - 1.0} & - \\frac{t \\left(E_{1} + E_{2}\\right)}{ν_{12} ν_{21} - 1.0} & 0\\\\0 & 0 & 2.0 G_{12} t\\end{matrix}\\right], \\  \\left[\\begin{matrix}- \\frac{E_{2} t^{2}}{ν_{12} ν_{21} - 1.0} & - \\frac{E_{2} t^{2} ν_{12}}{ν_{12} ν_{21} - 1.0} & 0\\\\- \\frac{E_{2} t^{2} ν_{12}}{ν_{12} ν_{21} - 1.0} & - \\frac{E_{1} t^{2}}{ν_{12} ν_{21} - 1.0} & 0\\\\0 & 0 & G_{12} t^{2}\\end{matrix}\\right]\\right)$"
      ],
      "text/plain": [
       "⎛                                                          ⎡           2      \n",
       "⎜                                                          ⎢      -E₂⋅t       \n",
       "⎜⎡   -t⋅(E₁ + E₂)       -2.0⋅E₂⋅t⋅ν_{12}                ⎤  ⎢──────────────────\n",
       "⎜⎢───────────────────  ───────────────────       0      ⎥  ⎢ν_{12}⋅ν_{21} - 1.\n",
       "⎜⎢ν_{12}⋅ν_{21} - 1.0  ν_{12}⋅ν_{21} - 1.0              ⎥  ⎢                  \n",
       "⎜⎢                                                      ⎥  ⎢        2         \n",
       "⎜⎢ -2.0⋅E₂⋅t⋅ν_{12}       -t⋅(E₁ + E₂)                  ⎥, ⎢   -E₂⋅t ⋅ν_{12}  \n",
       "⎜⎢───────────────────  ───────────────────       0      ⎥  ⎢──────────────────\n",
       "⎜⎢ν_{12}⋅ν_{21} - 1.0  ν_{12}⋅ν_{21} - 1.0              ⎥  ⎢ν_{12}⋅ν_{21} - 1.\n",
       "⎜⎢                                                      ⎥  ⎢                  \n",
       "⎜⎣         0                    0           2.0⋅G_{12}⋅t⎦  ⎢                  \n",
       "⎝                                                          ⎣         0        \n",
       "\n",
       "           2                     ⎤⎞\n",
       "      -E₂⋅t ⋅ν_{12}              ⎥⎟\n",
       "─  ───────────────────      0    ⎥⎟\n",
       "0  ν_{12}⋅ν_{21} - 1.0           ⎥⎟\n",
       "                                 ⎥⎟\n",
       "              2                  ⎥⎟\n",
       "         -E₁⋅t                   ⎥⎟\n",
       "─  ───────────────────      0    ⎥⎟\n",
       "0  ν_{12}⋅ν_{21} - 1.0           ⎥⎟\n",
       "                                 ⎥⎟\n",
       "                                2⎥⎟\n",
       "            0           G_{12}⋅t ⎦⎠"
      ]
     },
     "execution_count": 4,
     "metadata": {},
     "output_type": "execute_result"
    }
   ],
   "source": [
    "print('             A                             B')\n",
    "clpt_sym.tens_A(),clpt_sym.tens_B()"
   ]
  },
  {
   "cell_type": "code",
   "execution_count": 5,
   "metadata": {},
   "outputs": [
    {
     "name": "stdout",
     "output_type": "stream",
     "text": [
      "             U                  V            W \n"
     ]
    },
    {
     "data": {
      "text/latex": [
       "$\\displaystyle \\left( \\left[\\begin{matrix}- \\frac{t \\left(E_{2} 𝛼_{2} \\left(ν_{12} + 1\\right) + 𝛼_{1} \\left(E_{1} + E_{2} ν_{12}\\right)\\right)}{ν_{12} ν_{21} - 1.0}\\\\- \\frac{t \\left(E_{2} 𝛼_{1} \\left(ν_{12} + 1\\right) + 𝛼_{2} \\left(E_{1} + E_{2} ν_{12}\\right)\\right)}{ν_{12} ν_{21} - 1.0}\\\\G_{12} t \\left(𝛼_{1} + 𝛼_{2}\\right)\\end{matrix}\\right], \\  \\left[\\begin{matrix}- \\frac{E_{2} t^{2} 𝛼_{2} \\left(ν_{12} + 1\\right)}{ν_{12} ν_{21} - 1.0}\\\\- \\frac{t^{2} 𝛼_{2} \\left(E_{1} + E_{2} ν_{12}\\right)}{ν_{12} ν_{21} - 1.0}\\\\G_{12} t^{2} 𝛼_{2}\\end{matrix}\\right], \\  \\left[\\begin{matrix}- \\frac{t^{3} \\left(3.25 E_{2} 𝛼_{2} \\left(ν_{12} + 1\\right) + 0.25 𝛼_{1} \\left(E_{1} + E_{2} ν_{12}\\right)\\right)}{3 \\left(ν_{12} ν_{21} - 1.0\\right)}\\\\- \\frac{t^{3} \\left(0.25 E_{2} 𝛼_{1} \\left(ν_{12} + 1\\right) + 3.25 𝛼_{2} \\left(E_{1} + E_{2} ν_{12}\\right)\\right)}{3 \\left(ν_{12} ν_{21} - 1.0\\right)}\\\\\\frac{G_{12} t^{3} \\left(0.25 𝛼_{1} + 3.25 𝛼_{2}\\right)}{3}\\end{matrix}\\right]\\right)$"
      ],
      "text/plain": [
       "⎛                                                                             \n",
       "⎜                                                  ⎡     2                  ⎤ \n",
       "⎜                                                  ⎢-E₂⋅t ⋅𝛼₂⋅(ν_{12} + 1)  ⎥ \n",
       "⎜⎡-t⋅(E₂⋅𝛼₂⋅(ν_{12} + 1) + 𝛼₁⋅(E₁ + E₂⋅ν_{12})) ⎤  ⎢─────────────────────── ⎥ \n",
       "⎜⎢──────────────────────────────────────────────⎥  ⎢  ν_{12}⋅ν_{21} - 1.0   ⎥ \n",
       "⎜⎢             ν_{12}⋅ν_{21} - 1.0              ⎥  ⎢                        ⎥ \n",
       "⎜⎢                                              ⎥  ⎢  2                     ⎥ \n",
       "⎜⎢-t⋅(E₂⋅𝛼₁⋅(ν_{12} + 1) + 𝛼₂⋅(E₁ + E₂⋅ν_{12})) ⎥, ⎢-t ⋅𝛼₂⋅(E₁ + E₂⋅ν_{12}) ⎥,\n",
       "⎜⎢──────────────────────────────────────────────⎥  ⎢────────────────────────⎥ \n",
       "⎜⎢             ν_{12}⋅ν_{21} - 1.0              ⎥  ⎢  ν_{12}⋅ν_{21} - 1.0   ⎥ \n",
       "⎜⎢                                              ⎥  ⎢                        ⎥ \n",
       "⎜⎣              G_{12}⋅t⋅(𝛼₁ + 𝛼₂)              ⎦  ⎢              2         ⎥ \n",
       "⎜                                                  ⎣      G_{12}⋅t ⋅𝛼₂      ⎦ \n",
       "⎝                                                                             \n",
       "\n",
       " ⎡  3                                                      ⎤⎞\n",
       " ⎢-t ⋅(3.25⋅E₂⋅𝛼₂⋅(ν_{12} + 1) + 0.25⋅𝛼₁⋅(E₁ + E₂⋅ν_{12})) ⎥⎟\n",
       " ⎢─────────────────────────────────────────────────────────⎥⎟\n",
       " ⎢                 3⋅(ν_{12}⋅ν_{21} - 1.0)                 ⎥⎟\n",
       " ⎢                                                         ⎥⎟\n",
       " ⎢  3                                                      ⎥⎟\n",
       " ⎢-t ⋅(0.25⋅E₂⋅𝛼₁⋅(ν_{12} + 1) + 3.25⋅𝛼₂⋅(E₁ + E₂⋅ν_{12})) ⎥⎟\n",
       " ⎢─────────────────────────────────────────────────────────⎥⎟\n",
       " ⎢                 3⋅(ν_{12}⋅ν_{21} - 1.0)                 ⎥⎟\n",
       " ⎢                                                         ⎥⎟\n",
       " ⎢                      3                                  ⎥⎟\n",
       " ⎢              G_{12}⋅t ⋅(0.25⋅𝛼₁ + 3.25⋅𝛼₂)              ⎥⎟\n",
       " ⎢              ─────────────────────────────              ⎥⎟\n",
       " ⎣                            3                            ⎦⎠"
      ]
     },
     "execution_count": 5,
     "metadata": {},
     "output_type": "execute_result"
    }
   ],
   "source": [
    "print('             U                  V            W ')\n",
    "clpt_sym.tens_U(),clpt_sym.tens_V(),clpt_sym.tens_W(),"
   ]
  },
  {
   "cell_type": "code",
   "execution_count": 6,
   "metadata": {},
   "outputs": [
    {
     "name": "stdout",
     "output_type": "stream",
     "text": [
      "                         D\n"
     ]
    },
    {
     "data": {
      "text/latex": [
       "$\\displaystyle \\left[\\begin{matrix}- \\frac{t^{3} \\left(0.25 E_{1} + 3.25 E_{2}\\right)}{3 \\left(ν_{12} ν_{21} - 1.0\\right)} & - \\frac{1.16666666666667 E_{2} t^{3} ν_{12}}{ν_{12} ν_{21} - 1.0} & 0\\\\- \\frac{1.16666666666667 E_{2} t^{3} ν_{12}}{ν_{12} ν_{21} - 1.0} & - \\frac{t^{3} \\left(3.25 E_{1} + 0.25 E_{2}\\right)}{3 \\left(ν_{12} ν_{21} - 1.0\\right)} & 0\\\\0 & 0 & 1.16666666666667 G_{12} t^{3}\\end{matrix}\\right]$"
      ],
      "text/plain": [
       "⎡     3                                                 3                     \n",
       "⎢   -t ⋅(0.25⋅E₁ + 3.25⋅E₂)       -1.16666666666667⋅E₂⋅t ⋅ν_{12}              \n",
       "⎢   ────────────────────────      ───────────────────────────────             \n",
       "⎢   3⋅(ν_{12}⋅ν_{21} - 1.0)             ν_{12}⋅ν_{21} - 1.0                   \n",
       "⎢                                                                             \n",
       "⎢                      3               3                                      \n",
       "⎢-1.16666666666667⋅E₂⋅t ⋅ν_{12}      -t ⋅(3.25⋅E₁ + 0.25⋅E₂)                  \n",
       "⎢───────────────────────────────     ────────────────────────                 \n",
       "⎢      ν_{12}⋅ν_{21} - 1.0           3⋅(ν_{12}⋅ν_{21} - 1.0)                  \n",
       "⎢                                                                             \n",
       "⎢                                                                             \n",
       "⎣               0                                0                 1.166666666\n",
       "\n",
       "               ⎤\n",
       "               ⎥\n",
       " 0             ⎥\n",
       "               ⎥\n",
       "               ⎥\n",
       "               ⎥\n",
       "               ⎥\n",
       " 0             ⎥\n",
       "               ⎥\n",
       "               ⎥\n",
       "              3⎥\n",
       "66667⋅G_{12}⋅t ⎦"
      ]
     },
     "execution_count": 6,
     "metadata": {},
     "output_type": "execute_result"
    }
   ],
   "source": [
    "print('                         D')\n",
    "clpt_sym.tens_D()\n",
    "\n"
   ]
  },
  {
   "cell_type": "markdown",
   "metadata": {},
   "source": [
    "## $\\epsilon_0$ et K: Solutions  de l'équation CLPT"
   ]
  },
  {
   "cell_type": "code",
   "execution_count": 7,
   "metadata": {},
   "outputs": [],
   "source": [
    "clpt_np =CLPT_valeur(Delta,E1,E2,ν12,ν21,G12,t,𝛼,to,Dt)\n",
    "clpt_np.subs_alpha=True# ne pas remplacer alpha par sa valeur"
   ]
  },
  {
   "cell_type": "code",
   "execution_count": 8,
   "metadata": {},
   "outputs": [
    {
     "name": "stdout",
     "output_type": "stream",
     "text": [
      "              Esp_0                   K\n"
     ]
    },
    {
     "data": {
      "text/latex": [
       "$\\displaystyle \\left( \\left[\\begin{matrix}-5.43876900466717 \\cdot 10^{-7}\\\\2.89657640006628 \\cdot 10^{-5}\\\\3.01249999999999 \\cdot 10^{-6}\\end{matrix}\\right], \\  \\left[\\begin{matrix}-0.0106884544951929\\\\-0.305784863506488\\\\-0.0622499999999998\\end{matrix}\\right]\\right)$"
      ],
      "text/plain": [
       "⎛⎡-5.43876900466717e-7⎤  ⎡-0.0106884544951929⎤⎞\n",
       "⎜⎢                    ⎥  ⎢                   ⎥⎟\n",
       "⎜⎢2.89657640006628e-5 ⎥, ⎢-0.305784863506488 ⎥⎟\n",
       "⎜⎢                    ⎥  ⎢                   ⎥⎟\n",
       "⎝⎣3.01249999999999e-6 ⎦  ⎣-0.0622499999999998⎦⎠"
      ]
     },
     "execution_count": 8,
     "metadata": {},
     "output_type": "execute_result"
    }
   ],
   "source": [
    "Esp_0,K =clpt_np.calcul_esp_k()\n",
    "\n",
    "print('              Esp_0                   K')\n",
    "Esp_0,K  "
   ]
  },
  {
   "cell_type": "markdown",
   "metadata": {},
   "source": [
    "## Deformation $\\epsilon(z) $ et contrainte $\\sigma_k (z)$ :"
   ]
  },
  {
   "cell_type": "code",
   "execution_count": 16,
   "metadata": {},
   "outputs": [
    {
     "name": "stdout",
     "output_type": "stream",
     "text": [
      "                  Esp(z)\n"
     ]
    },
    {
     "data": {
      "text/latex": [
       "$\\displaystyle \\left[\\begin{matrix}- 0.0106884544951929 z - 5.43876900466717 \\cdot 10^{-7}\\\\2.89657640006628 \\cdot 10^{-5} - 0.305784863506488 z\\\\3.01249999999999 \\cdot 10^{-6} - 0.0622499999999998 z\\end{matrix}\\right]$"
      ],
      "text/plain": [
       "⎡-0.0106884544951929⋅z - 5.43876900466717e-7⎤\n",
       "⎢                                           ⎥\n",
       "⎢ 2.89657640006628e-5 - 0.305784863506488⋅z ⎥\n",
       "⎢                                           ⎥\n",
       "⎣3.01249999999999e-6 - 0.0622499999999998⋅z ⎦"
      ]
     },
     "execution_count": 16,
     "metadata": {},
     "output_type": "execute_result"
    }
   ],
   "source": [
    "esp=clpt_np.deformation(z) \n",
    "print('                  Esp(z)')\n",
    "esp"
   ]
  },
  {
   "cell_type": "code",
   "execution_count": 17,
   "metadata": {},
   "outputs": [
    {
     "name": "stdout",
     "output_type": "stream",
     "text": [
      "                  Sigma_1(Z)                         Sigma_2(Z)\n"
     ]
    },
    {
     "data": {
      "text/latex": [
       "$\\displaystyle \\left( \\left[\\begin{matrix}- 3046801034.94405 z - 17052.4055974206\\\\318899.175758494 - 3417460757.16629 z\\\\21689.9999999999 - 448199999.999998 z\\end{matrix}\\right], \\  \\left[\\begin{matrix}83744.2248276177 - 1065911247.85753 z\\\\5687120.19497855 - 60088527040.7038 z\\\\21689.9999999999 - 448199999.999998 z\\end{matrix}\\right]\\right)$"
      ],
      "text/plain": [
       "⎛⎡-3046801034.94405⋅z - 17052.4055974206⎤  ⎡83744.2248276177 - 1065911247.8575\n",
       "⎜⎢                                      ⎥  ⎢                                  \n",
       "⎜⎢318899.175758494 - 3417460757.16629⋅z ⎥, ⎢5687120.19497855 - 60088527040.703\n",
       "⎜⎢                                      ⎥  ⎢                                  \n",
       "⎝⎣21689.9999999999 - 448199999.999998⋅z ⎦  ⎣21689.9999999999 - 448199999.99999\n",
       "\n",
       "3⋅z⎤⎞\n",
       "   ⎥⎟\n",
       "8⋅z⎥⎟\n",
       "   ⎥⎟\n",
       "8⋅z⎦⎠"
      ]
     },
     "execution_count": 17,
     "metadata": {},
     "output_type": "execute_result"
    }
   ],
   "source": [
    "sigma1,sigma2= clpt_np.contrainte_plaque(z,0),clpt_np.contrainte_plaque(z,1)\n",
    "\n",
    "print('                  Sigma_1(Z)                         Sigma_2(Z)')\n",
    "sigma1,sigma2"
   ]
  },
  {
   "cell_type": "markdown",
   "metadata": {},
   "source": [
    "##  Déplacement  U:"
   ]
  },
  {
   "cell_type": "code",
   "execution_count": 20,
   "metadata": {},
   "outputs": [
    {
     "name": "stdout",
     "output_type": "stream",
     "text": [
      "                          U \n"
     ]
    },
    {
     "data": {
      "text/latex": [
       "$\\displaystyle \\left[\\begin{matrix}- 0.0106884544951929 x z - 5.43876900466717 \\cdot 10^{-7} x\\\\- 0.305784863506488 y z + 2.89657640006628 \\cdot 10^{-5} y\\\\3.01249999999999 \\cdot 10^{-6} - 0.0622499999999998 z\\end{matrix}\\right]$"
      ],
      "text/plain": [
       "⎡-0.0106884544951929⋅x⋅z - 5.43876900466717e-7⋅x⎤\n",
       "⎢                                               ⎥\n",
       "⎢-0.305784863506488⋅y⋅z + 2.89657640006628e-5⋅y ⎥\n",
       "⎢                                               ⎥\n",
       "⎣  3.01249999999999e-6 - 0.0622499999999998⋅z   ⎦"
      ]
     },
     "execution_count": 20,
     "metadata": {},
     "output_type": "execute_result"
    }
   ],
   "source": [
    "disp = clpt_np.deplacement(x,y,z)\n",
    "\n",
    "print('                          U ')\n",
    "disp"
   ]
  },
  {
   "cell_type": "code",
   "execution_count": 32,
   "metadata": {},
   "outputs": [
    {
     "data": {
      "text/latex": [
       "$\\displaystyle 9.23749999999996 \\cdot 10^{-6}$"
      ],
      "text/plain": [
       "9.23749999999996e-6"
      ]
     },
     "execution_count": 32,
     "metadata": {},
     "output_type": "execute_result"
    }
   ],
   "source": [
    "#flech\n",
    "disp[2].subs(z,-h/2)"
   ]
  },
  {
   "cell_type": "code",
   "execution_count": null,
   "metadata": {},
   "outputs": [],
   "source": []
  }
 ],
 "metadata": {
  "kernelspec": {
   "display_name": "Python 3",
   "language": "python",
   "name": "python3"
  },
  "language_info": {
   "codemirror_mode": {
    "name": "ipython",
    "version": 3
   },
   "file_extension": ".py",
   "mimetype": "text/x-python",
   "name": "python",
   "nbconvert_exporter": "python",
   "pygments_lexer": "ipython3",
   "version": "3.7.3"
  }
 },
 "nbformat": 4,
 "nbformat_minor": 4
}
