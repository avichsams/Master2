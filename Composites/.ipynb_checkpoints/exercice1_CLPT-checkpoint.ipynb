{
 "cells": [
  {
   "cell_type": "markdown",
   "metadata": {},
   "source": [
    "# Exercice 1 CLPT "
   ]
  },
  {
   "cell_type": "markdown",
   "metadata": {},
   "source": [
    "## Equations de la CLPT thermo-élastique :"
   ]
  },
  {
   "cell_type": "markdown",
   "metadata": {},
   "source": [
    "\\begin{equation}\n",
    "\\left(\\begin{array}{c} \n",
    "N \\\\\n",
    "M\n",
    "\\end{array}\\right)=\n",
    "\\left(\\begin{array}{cc} \n",
    "A & B\\\\\n",
    "B & D\n",
    "\\end{array}\\right)\n",
    "\\left(\\begin{array}{c} \n",
    "\\epsilon_0 \\\\\n",
    "K \n",
    "\\end{array}\\right)-t_0\n",
    "\\left(\\begin{array}{c} \n",
    "U \\\\\n",
    "V\n",
    "\\end{array}\\right)-\\frac{\\Delta t_0}{h}\n",
    "\\left(\\begin{array}{c} \n",
    "V \\\\\n",
    "W\n",
    "\\end{array}\\right)\n",
    "\\end{equation}"
   ]
  },
  {
   "cell_type": "markdown",
   "metadata": {},
   "source": [
    "## Etude de la reponses des plaques pour N=M=0 :"
   ]
  },
  {
   "cell_type": "markdown",
   "metadata": {},
   "source": [
    "l'équation devient :\n",
    "\\begin{equation}\n",
    "\\left(\\begin{array}{c} \n",
    "\\epsilon_0 \\\\\n",
    "K \n",
    "\\end{array}\\right)=\n",
    "\\left(\\begin{array}{cc} \n",
    "A & B\\\\\n",
    "B & D\n",
    "\\end{array}\\right)^{-1}\n",
    "\\left(\\begin{array}{c} \n",
    "N^{th} \\\\\n",
    "M^{th} \n",
    "\\end{array}\\right)\n",
    "\\end{equation}\n",
    "avec : \n",
    "$\\left(\\begin{array}{c} \n",
    "N^{th} \\\\\n",
    "M^{th} \n",
    "\\end{array}\\right) = -t_0\n",
    "\\left(\\begin{array}{c} \n",
    "U \\\\\n",
    "V\n",
    "\\end{array}\\right)-\\frac{\\Delta t_0}{h}\n",
    "\\left(\\begin{array}{c} \n",
    "V \\\\\n",
    "W\n",
    "\\end{array}\\right)$"
   ]
  },
  {
   "cell_type": "code",
   "execution_count": 1,
   "metadata": {},
   "outputs": [],
   "source": [
    "import sympy as sp\n",
    "import sympy\n",
    "import numpy as np\n",
    "from math import *\n",
    "\n",
    "from CLPT_sympy import CLPT_symbol\n",
    "from CLPT_numpy import CLPT_valeur"
   ]
  },
  {
   "cell_type": "code",
   "execution_count": 2,
   "metadata": {},
   "outputs": [],
   "source": [
    "# param \n",
    "\n",
    "E1,E2     = 181*1E+9,10.2*1E+9 #Pa\n",
    "G12       = 7.2*1E+9 #Pa\n",
    "ν12,ν21   = 0.28,0.28\n",
    "𝛼1,𝛼2,𝛼3  = -0.1*1E-8,25.6*1E-8,0\n",
    "to        = -200\n",
    "Dt        = 200\n",
    "t         = 0.10*1E-3\n",
    "𝛼         = [𝛼1,𝛼2,𝛼3]\n",
    "\n",
    "\n",
    "z         = sp.symbols(\"z\")\n",
    "y         = sp.symbols(\"y\")\n",
    "x         = sp.symbols(\"x\")\n",
    "δ𝑘         = sp.symbols(\"δ_𝑘\")\n",
    "𝑘         = sp.symbols(\"𝑘\")\n",
    " "
   ]
  },
  {
   "cell_type": "code",
   "execution_count": 25,
   "metadata": {},
   "outputs": [],
   "source": [
    "Delta = [0,sp.pi/2] # orientation des plaque \n",
    "\n",
    "clpt_sym=CLPT_symbol(Delta) ## pour afficher les expression\n",
    "\n",
    "\n",
    "Matrix_ABBD_sym = clpt_sym.Matrix_ABBD()\n",
    "Vecteur_NMth_sym= clpt_sym.Vecteur_NMth()\n",
    "\n",
    "clpt_np =CLPT_valeur(Delta,E1,E2,ν12,ν21,G12,t,𝛼,to,Dt)"
   ]
  },
  {
   "cell_type": "code",
   "execution_count": 26,
   "metadata": {},
   "outputs": [
    {
     "data": {
      "text/latex": [
       "$\\displaystyle \\left[\\begin{matrix}𝛼_{2}\\\\𝛼_{2}\\\\𝛼_{2}\\end{matrix}\\right]$"
      ],
      "text/plain": [
       "⎡𝛼₂⎤\n",
       "⎢  ⎥\n",
       "⎢𝛼₂⎥\n",
       "⎢  ⎥\n",
       "⎣𝛼₂⎦"
      ]
     },
     "execution_count": 26,
     "metadata": {},
     "output_type": "execute_result"
    }
   ],
   "source": [
    "clpt_sym.alpha(2)"
   ]
  },
  {
   "cell_type": "code",
   "execution_count": 27,
   "metadata": {},
   "outputs": [
    {
     "data": {
      "text/latex": [
       "$\\displaystyle \\left[\\begin{matrix}-5.43876900466716 \\cdot 10^{-7}\\\\2.89657640006628 \\cdot 10^{-5}\\\\3.01249999999999 \\cdot 10^{-6}\\end{matrix}\\right]$"
      ],
      "text/plain": [
       "⎡-5.43876900466716e-7⎤\n",
       "⎢                    ⎥\n",
       "⎢2.89657640006628e-5 ⎥\n",
       "⎢                    ⎥\n",
       "⎣3.01249999999999e-6 ⎦"
      ]
     },
     "execution_count": 27,
     "metadata": {},
     "output_type": "execute_result"
    }
   ],
   "source": [
    "clpt_np.Esp_0"
   ]
  },
  {
   "cell_type": "code",
   "execution_count": 28,
   "metadata": {},
   "outputs": [
    {
     "data": {
      "text/latex": [
       "$\\displaystyle \\left[\\begin{matrix}-1.06884544951929 \\cdot 10^{-6}\\\\-3.05784863506488 \\cdot 10^{-5}\\\\-6.22499999999998 \\cdot 10^{-6}\\end{matrix}\\right]$"
      ],
      "text/plain": [
       "⎡-1.06884544951929e-6⎤\n",
       "⎢                    ⎥\n",
       "⎢-3.05784863506488e-5⎥\n",
       "⎢                    ⎥\n",
       "⎣-6.22499999999998e-6⎦"
      ]
     },
     "execution_count": 28,
     "metadata": {},
     "output_type": "execute_result"
    }
   ],
   "source": [
    "clpt_np.K"
   ]
  },
  {
   "cell_type": "code",
   "execution_count": 29,
   "metadata": {},
   "outputs": [
    {
     "data": {
      "text/latex": [
       "$\\displaystyle \\left[\\begin{matrix}- 1.06884544951929 \\cdot 10^{-6} z - 5.43876900466716 \\cdot 10^{-7}\\\\2.89657640006628 \\cdot 10^{-5} - 3.05784863506488 \\cdot 10^{-5} z\\\\3.01249999999999 \\cdot 10^{-6} - 6.22499999999998 \\cdot 10^{-6} z\\end{matrix}\\right]$"
      ],
      "text/plain": [
       "⎡-1.06884544951929e-6⋅z - 5.43876900466716e-7⎤\n",
       "⎢                                            ⎥\n",
       "⎢2.89657640006628e-5 - 3.05784863506488e-5⋅z ⎥\n",
       "⎢                                            ⎥\n",
       "⎣3.01249999999999e-6 - 6.22499999999998e-6⋅z ⎦"
      ]
     },
     "execution_count": 29,
     "metadata": {},
     "output_type": "execute_result"
    }
   ],
   "source": [
    "clpt_np.deformation(z)"
   ]
  },
  {
   "cell_type": "code",
   "execution_count": 30,
   "metadata": {},
   "outputs": [
    {
     "data": {
      "text/latex": [
       "$\\displaystyle \\left[\\begin{matrix}-321732.509091826\\\\-22846.899958135\\\\- 3.21249999999999 \\cdot 10^{-6} G_{12}\\end{matrix}\\right]$"
      ],
      "text/plain": [
       "⎡     -321732.509091826     ⎤\n",
       "⎢                           ⎥\n",
       "⎢     -22846.899958135      ⎥\n",
       "⎢                           ⎥\n",
       "⎣-3.21249999999999e-6⋅G_{12}⎦"
      ]
     },
     "execution_count": 30,
     "metadata": {},
     "output_type": "execute_result"
    }
   ],
   "source": [
    "\n",
    "clpt_np.contrainte(t)"
   ]
  },
  {
   "cell_type": "code",
   "execution_count": 32,
   "metadata": {},
   "outputs": [
    {
     "data": {
      "text/latex": [
       "$\\displaystyle \\left[\\begin{matrix}- 1.06884544951929 \\cdot 10^{-6} x z - 5.43876900466716 \\cdot 10^{-7} x\\\\- 3.05784863506488 \\cdot 10^{-5} y z + 2.89657640006628 \\cdot 10^{-5} y\\\\3.01249999999999 \\cdot 10^{-6} - 6.22499999999998 \\cdot 10^{-6} z\\end{matrix}\\right]$"
      ],
      "text/plain": [
       "⎡-1.06884544951929e-6⋅x⋅z - 5.43876900466716e-7⋅x⎤\n",
       "⎢                                                ⎥\n",
       "⎢-3.05784863506488e-5⋅y⋅z + 2.89657640006628e-5⋅y⎥\n",
       "⎢                                                ⎥\n",
       "⎣  3.01249999999999e-6 - 6.22499999999998e-6⋅z   ⎦"
      ]
     },
     "execution_count": 32,
     "metadata": {},
     "output_type": "execute_result"
    }
   ],
   "source": [
    "clpt_np.deplacement(x,y,z)"
   ]
  },
  {
   "cell_type": "markdown",
   "metadata": {},
   "source": [
    "###  Expression des tenseur A,B .... "
   ]
  },
  {
   "cell_type": "code",
   "execution_count": 10,
   "metadata": {},
   "outputs": [
    {
     "data": {
      "text/latex": [
       "$\\displaystyle \\left[\\begin{matrix}- \\frac{t \\left(E_{1} + E_{2}\\right)}{ν_{12} ν_{21} - 1.0} & - \\frac{2.0 E_{2} t ν_{12}}{ν_{12} ν_{21} - 1.0} & 0\\\\- \\frac{2.0 E_{2} t ν_{12}}{ν_{12} ν_{21} - 1.0} & - \\frac{t \\left(E_{1} + E_{2}\\right)}{ν_{12} ν_{21} - 1.0} & 0\\\\0 & 0 & 2.0 G_{12} t\\end{matrix}\\right]$"
      ],
      "text/plain": [
       "⎡   -t⋅(E₁ + E₂)       -2.0⋅E₂⋅t⋅ν_{12}                ⎤\n",
       "⎢───────────────────  ───────────────────       0      ⎥\n",
       "⎢ν_{12}⋅ν_{21} - 1.0  ν_{12}⋅ν_{21} - 1.0              ⎥\n",
       "⎢                                                      ⎥\n",
       "⎢ -2.0⋅E₂⋅t⋅ν_{12}       -t⋅(E₁ + E₂)                  ⎥\n",
       "⎢───────────────────  ───────────────────       0      ⎥\n",
       "⎢ν_{12}⋅ν_{21} - 1.0  ν_{12}⋅ν_{21} - 1.0              ⎥\n",
       "⎢                                                      ⎥\n",
       "⎣         0                    0           2.0⋅G_{12}⋅t⎦"
      ]
     },
     "execution_count": 10,
     "metadata": {},
     "output_type": "execute_result"
    }
   ],
   "source": [
    "clpt_sym.tens_A()"
   ]
  },
  {
   "cell_type": "code",
   "execution_count": 11,
   "metadata": {},
   "outputs": [
    {
     "data": {
      "text/latex": [
       "$\\displaystyle \\left[\\begin{matrix}- \\frac{E_{2} t^{2}}{ν_{12} ν_{21} - 1.0} & - \\frac{E_{2} t^{2} ν_{12}}{ν_{12} ν_{21} - 1.0} & 0\\\\- \\frac{E_{2} t^{2} ν_{12}}{ν_{12} ν_{21} - 1.0} & - \\frac{E_{1} t^{2}}{ν_{12} ν_{21} - 1.0} & 0\\\\0 & 0 & G_{12} t^{2}\\end{matrix}\\right]$"
      ],
      "text/plain": [
       "⎡           2                 2                     ⎤\n",
       "⎢      -E₂⋅t             -E₂⋅t ⋅ν_{12}              ⎥\n",
       "⎢───────────────────  ───────────────────      0    ⎥\n",
       "⎢ν_{12}⋅ν_{21} - 1.0  ν_{12}⋅ν_{21} - 1.0           ⎥\n",
       "⎢                                                   ⎥\n",
       "⎢        2                       2                  ⎥\n",
       "⎢   -E₂⋅t ⋅ν_{12}           -E₁⋅t                   ⎥\n",
       "⎢───────────────────  ───────────────────      0    ⎥\n",
       "⎢ν_{12}⋅ν_{21} - 1.0  ν_{12}⋅ν_{21} - 1.0           ⎥\n",
       "⎢                                                   ⎥\n",
       "⎢                                                  2⎥\n",
       "⎣         0                    0           G_{12}⋅t ⎦"
      ]
     },
     "execution_count": 11,
     "metadata": {},
     "output_type": "execute_result"
    }
   ],
   "source": [
    "clpt_sym.tens_B()"
   ]
  },
  {
   "cell_type": "code",
   "execution_count": 12,
   "metadata": {},
   "outputs": [
    {
     "data": {
      "text/latex": [
       "$\\displaystyle \\left[\\begin{matrix}- \\frac{t^{3} \\left(0.25 E_{1} + 3.25 E_{2}\\right)}{3 \\left(ν_{12} ν_{21} - 1.0\\right)} & - \\frac{1.16666666666667 E_{2} t^{3} ν_{12}}{ν_{12} ν_{21} - 1.0} & 0\\\\- \\frac{1.16666666666667 E_{2} t^{3} ν_{12}}{ν_{12} ν_{21} - 1.0} & - \\frac{t^{3} \\left(3.25 E_{1} + 0.25 E_{2}\\right)}{3 \\left(ν_{12} ν_{21} - 1.0\\right)} & 0\\\\0 & 0 & 1.16666666666667 G_{12} t^{3}\\end{matrix}\\right]$"
      ],
      "text/plain": [
       "⎡     3                                                 3                     \n",
       "⎢   -t ⋅(0.25⋅E₁ + 3.25⋅E₂)       -1.16666666666667⋅E₂⋅t ⋅ν_{12}              \n",
       "⎢   ────────────────────────      ───────────────────────────────             \n",
       "⎢   3⋅(ν_{12}⋅ν_{21} - 1.0)             ν_{12}⋅ν_{21} - 1.0                   \n",
       "⎢                                                                             \n",
       "⎢                      3               3                                      \n",
       "⎢-1.16666666666667⋅E₂⋅t ⋅ν_{12}      -t ⋅(3.25⋅E₁ + 0.25⋅E₂)                  \n",
       "⎢───────────────────────────────     ────────────────────────                 \n",
       "⎢      ν_{12}⋅ν_{21} - 1.0           3⋅(ν_{12}⋅ν_{21} - 1.0)                  \n",
       "⎢                                                                             \n",
       "⎢                                                                             \n",
       "⎣               0                                0                 1.166666666\n",
       "\n",
       "               ⎤\n",
       "               ⎥\n",
       " 0             ⎥\n",
       "               ⎥\n",
       "               ⎥\n",
       "               ⎥\n",
       "               ⎥\n",
       " 0             ⎥\n",
       "               ⎥\n",
       "               ⎥\n",
       "              3⎥\n",
       "66667⋅G_{12}⋅t ⎦"
      ]
     },
     "execution_count": 12,
     "metadata": {},
     "output_type": "execute_result"
    }
   ],
   "source": [
    "clpt_sym.tens_D()\n"
   ]
  },
  {
   "cell_type": "code",
   "execution_count": 13,
   "metadata": {},
   "outputs": [
    {
     "data": {
      "text/latex": [
       "$\\displaystyle \\left[\\begin{matrix}- \\frac{t \\left(E_{2} 𝛼_{2} \\left(ν_{12} + 1\\right) + 𝛼_{1} \\left(E_{1} + E_{2} ν_{12}\\right)\\right)}{ν_{12} ν_{21} - 1.0}\\\\- \\frac{t \\left(E_{2} 𝛼_{1} \\left(ν_{12} + 1\\right) + 𝛼_{2} \\left(E_{1} + E_{2} ν_{12}\\right)\\right)}{ν_{12} ν_{21} - 1.0}\\\\G_{12} t \\left(𝛼_{1} + 𝛼_{2}\\right)\\end{matrix}\\right]$"
      ],
      "text/plain": [
       "⎡-t⋅(E₂⋅𝛼₂⋅(ν_{12} + 1) + 𝛼₁⋅(E₁ + E₂⋅ν_{12})) ⎤\n",
       "⎢──────────────────────────────────────────────⎥\n",
       "⎢             ν_{12}⋅ν_{21} - 1.0              ⎥\n",
       "⎢                                              ⎥\n",
       "⎢-t⋅(E₂⋅𝛼₁⋅(ν_{12} + 1) + 𝛼₂⋅(E₁ + E₂⋅ν_{12})) ⎥\n",
       "⎢──────────────────────────────────────────────⎥\n",
       "⎢             ν_{12}⋅ν_{21} - 1.0              ⎥\n",
       "⎢                                              ⎥\n",
       "⎣              G_{12}⋅t⋅(𝛼₁ + 𝛼₂)              ⎦"
      ]
     },
     "execution_count": 13,
     "metadata": {},
     "output_type": "execute_result"
    }
   ],
   "source": [
    "clpt_sym.tens_U()"
   ]
  },
  {
   "cell_type": "code",
   "execution_count": 14,
   "metadata": {},
   "outputs": [
    {
     "data": {
      "text/latex": [
       "$\\displaystyle \\left[\\begin{matrix}- \\frac{E_{2} t^{2} 𝛼_{2} \\left(ν_{12} + 1\\right)}{ν_{12} ν_{21} - 1.0}\\\\- \\frac{t^{2} 𝛼_{2} \\left(E_{1} + E_{2} ν_{12}\\right)}{ν_{12} ν_{21} - 1.0}\\\\G_{12} t^{2} 𝛼_{2}\\end{matrix}\\right]$"
      ],
      "text/plain": [
       "⎡     2                  ⎤\n",
       "⎢-E₂⋅t ⋅𝛼₂⋅(ν_{12} + 1)  ⎥\n",
       "⎢─────────────────────── ⎥\n",
       "⎢  ν_{12}⋅ν_{21} - 1.0   ⎥\n",
       "⎢                        ⎥\n",
       "⎢  2                     ⎥\n",
       "⎢-t ⋅𝛼₂⋅(E₁ + E₂⋅ν_{12}) ⎥\n",
       "⎢────────────────────────⎥\n",
       "⎢  ν_{12}⋅ν_{21} - 1.0   ⎥\n",
       "⎢                        ⎥\n",
       "⎢              2         ⎥\n",
       "⎣      G_{12}⋅t ⋅𝛼₂      ⎦"
      ]
     },
     "execution_count": 14,
     "metadata": {},
     "output_type": "execute_result"
    }
   ],
   "source": [
    "clpt_sym.tens_V()"
   ]
  },
  {
   "cell_type": "code",
   "execution_count": 15,
   "metadata": {},
   "outputs": [
    {
     "data": {
      "text/latex": [
       "$\\displaystyle \\left[\\begin{matrix}- \\frac{t^{3} \\left(3.25 E_{2} 𝛼_{2} \\left(ν_{12} + 1\\right) + 0.25 𝛼_{1} \\left(E_{1} + E_{2} ν_{12}\\right)\\right)}{3 \\left(ν_{12} ν_{21} - 1.0\\right)}\\\\- \\frac{t^{3} \\left(0.25 E_{2} 𝛼_{1} \\left(ν_{12} + 1\\right) + 3.25 𝛼_{2} \\left(E_{1} + E_{2} ν_{12}\\right)\\right)}{3 \\left(ν_{12} ν_{21} - 1.0\\right)}\\\\\\frac{G_{12} t^{3} \\left(0.25 𝛼_{1} + 3.25 𝛼_{2}\\right)}{3}\\end{matrix}\\right]$"
      ],
      "text/plain": [
       "⎡  3                                                      ⎤\n",
       "⎢-t ⋅(3.25⋅E₂⋅𝛼₂⋅(ν_{12} + 1) + 0.25⋅𝛼₁⋅(E₁ + E₂⋅ν_{12})) ⎥\n",
       "⎢─────────────────────────────────────────────────────────⎥\n",
       "⎢                 3⋅(ν_{12}⋅ν_{21} - 1.0)                 ⎥\n",
       "⎢                                                         ⎥\n",
       "⎢  3                                                      ⎥\n",
       "⎢-t ⋅(0.25⋅E₂⋅𝛼₁⋅(ν_{12} + 1) + 3.25⋅𝛼₂⋅(E₁ + E₂⋅ν_{12})) ⎥\n",
       "⎢─────────────────────────────────────────────────────────⎥\n",
       "⎢                 3⋅(ν_{12}⋅ν_{21} - 1.0)                 ⎥\n",
       "⎢                                                         ⎥\n",
       "⎢                      3                                  ⎥\n",
       "⎢              G_{12}⋅t ⋅(0.25⋅𝛼₁ + 3.25⋅𝛼₂)              ⎥\n",
       "⎢              ─────────────────────────────              ⎥\n",
       "⎣                            3                            ⎦"
      ]
     },
     "execution_count": 15,
     "metadata": {},
     "output_type": "execute_result"
    }
   ],
   "source": [
    "clpt_sym.tens_W()"
   ]
  },
  {
   "cell_type": "code",
   "execution_count": null,
   "metadata": {},
   "outputs": [],
   "source": []
  },
  {
   "cell_type": "code",
   "execution_count": 16,
   "metadata": {},
   "outputs": [
    {
     "data": {
      "text/latex": [
       "$\\displaystyle \\left( 1, \\  2\\right)$"
      ],
      "text/plain": [
       "(1, 2)"
      ]
     },
     "execution_count": 16,
     "metadata": {},
     "output_type": "execute_result"
    }
   ],
   "source": [
    "def dd(j,h=2):\n",
    "    return j,h\n",
    "\n",
    "dd(j=1,h=2)"
   ]
  },
  {
   "cell_type": "code",
   "execution_count": 17,
   "metadata": {},
   "outputs": [
    {
     "data": {
      "text/latex": [
       "$\\displaystyle \\left( 6, \\  2\\right)$"
      ],
      "text/plain": [
       "(6, 2)"
      ]
     },
     "execution_count": 17,
     "metadata": {},
     "output_type": "execute_result"
    }
   ],
   "source": [
    "dd(j=6)"
   ]
  },
  {
   "cell_type": "code",
   "execution_count": 18,
   "metadata": {},
   "outputs": [],
   "source": [
    "frac =sp.Rational(10,30)"
   ]
  },
  {
   "cell_type": "code",
   "execution_count": 19,
   "metadata": {},
   "outputs": [
    {
     "data": {
      "text/latex": [
       "$\\displaystyle 21.6666666666667$"
      ],
      "text/plain": [
       "21.6666666666667"
      ]
     },
     "execution_count": 19,
     "metadata": {},
     "output_type": "execute_result"
    }
   ],
   "source": [
    "p=frac*6.5*10\n",
    "p"
   ]
  },
  {
   "cell_type": "code",
   "execution_count": 20,
   "metadata": {},
   "outputs": [
    {
     "data": {
      "text/latex": [
       "$\\displaystyle 21.6666666666667$"
      ],
      "text/plain": [
       "21.6666666666667"
      ]
     },
     "execution_count": 20,
     "metadata": {},
     "output_type": "execute_result"
    }
   ],
   "source": [
    "sp.simplify(p)"
   ]
  },
  {
   "cell_type": "code",
   "execution_count": null,
   "metadata": {},
   "outputs": [],
   "source": []
  },
  {
   "cell_type": "code",
   "execution_count": 21,
   "metadata": {},
   "outputs": [
    {
     "data": {
      "text/latex": [
       "$\\displaystyle 1$"
      ],
      "text/plain": [
       "1"
      ]
     },
     "execution_count": 21,
     "metadata": {},
     "output_type": "execute_result"
    }
   ],
   "source": [
    "z=0.10*1E-3 +1E-5\n",
    "h=2*t\n",
    "k = (z-h/2)/t\n",
    "ceil(k)"
   ]
  },
  {
   "cell_type": "code",
   "execution_count": 22,
   "metadata": {},
   "outputs": [
    {
     "name": "stdout",
     "output_type": "stream",
     "text": [
      "1\n"
     ]
    }
   ],
   "source": [
    "z         = sp.symbols(\"z\")\n",
    "p         = sp.symbols(\"p\")\n",
    "type(z)\n",
    "if type(z)==type(z):\n",
    "    print(1)\n",
    "else :\n",
    "    print(0)"
   ]
  },
  {
   "cell_type": "code",
   "execution_count": 23,
   "metadata": {},
   "outputs": [],
   "source": [
    "a=1;c=3;t=1"
   ]
  },
  {
   "cell_type": "code",
   "execution_count": 24,
   "metadata": {},
   "outputs": [
    {
     "data": {
      "text/latex": [
       "$\\displaystyle 3$"
      ],
      "text/plain": [
       "3"
      ]
     },
     "execution_count": 24,
     "metadata": {},
     "output_type": "execute_result"
    }
   ],
   "source": [
    "c"
   ]
  },
  {
   "cell_type": "code",
   "execution_count": null,
   "metadata": {},
   "outputs": [],
   "source": []
  }
 ],
 "metadata": {
  "kernelspec": {
   "display_name": "Python 3",
   "language": "python",
   "name": "python3"
  },
  "language_info": {
   "codemirror_mode": {
    "name": "ipython",
    "version": 3
   },
   "file_extension": ".py",
   "mimetype": "text/x-python",
   "name": "python",
   "nbconvert_exporter": "python",
   "pygments_lexer": "ipython3",
   "version": "3.7.3"
  }
 },
 "nbformat": 4,
 "nbformat_minor": 4
}
