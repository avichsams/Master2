{
 "cells": [
  {
   "cell_type": "markdown",
   "metadata": {},
   "source": [
    "# Circular inhomogeneity — Shear"
   ]
  },
  {
   "cell_type": "markdown",
   "metadata": {},
   "source": [
    "The goal of this notebook is to derive the closed form solution for a sheare composite disk in 2d elasticity.\n",
    "\n",
    "We consider a circular inclusion (radius: $a$, Lamé coefficients: $\\lambda_{\\mathrm i}$, $\\mu_{\\mathrm i}$) embedded in a homogeneous, circular matrix (radius: $R$, Lamé coefficients: $\\lambda_{\\mathrm m}$, $\\mu_{\\mathrm m}$). Both disks are concentric.\n",
    "\n",
    "The boundary of the matrix is subjected to the prescribed displacement\n",
    "\n",
    "\\begin{equation*}\n",
    "u_x = y\\quad\\text{and}\\quad u_y=x.\n",
    "\\end{equation*}\n",
    "\n",
    "These boundary conditions are known as “kinematically uniform boundary conditions”, the general form of which is\n",
    "\n",
    "\\begin{equation*}\n",
    "\\mathbf{u} = \\overline{\\boldsymbol\\varepsilon}\\cdot\\mathbf{x},\n",
    "\\end{equation*}\n",
    "\n",
    "where the *macroscopic strain* $\\overline{\\boldsymbol\\varepsilon}$ is in the present case a unit shear\n",
    "\n",
    "\\begin{equation*}\n",
    "\\overline{\\boldsymbol\\varepsilon}=\\mathbf{e}_x\\otimes\\mathbf{e}_y+\\mathbf{e}_y\\otimes\\mathbf{e}_x.\n",
    "\\end{equation*}\n",
    "\n",
    "We seek the solution to this problem in polar coordinates, assuming a separated form\n",
    "\n",
    "\\begin{equation*}\n",
    "u_r = F(r)\\Phi(\\theta)\\quad\\text{and}\\quad u_\\theta = G(r)\\Psi(\\theta).\n",
    "\\end{equation*}\n",
    "\n",
    "We first identify the functions $\\Phi$ and $\\Psi$ from the boundary conditions."
   ]
  },
  {
   "cell_type": "code",
   "execution_count": 1,
   "metadata": {},
   "outputs": [],
   "source": [
    "import sympy"
   ]
  },
  {
   "cell_type": "code",
   "execution_count": 2,
   "metadata": {},
   "outputs": [],
   "source": [
    "sympy.init_printing(use_latex=\"mathjax\")"
   ]
  },
  {
   "cell_type": "markdown",
   "metadata": {},
   "source": [
    "## Boundary conditions in polar coordinates"
   ]
  },
  {
   "cell_type": "markdown",
   "metadata": {},
   "source": [
    "We first expand the vectors of the cartesian basis in the polar basis."
   ]
  },
  {
   "cell_type": "code",
   "execution_count": 3,
   "metadata": {},
   "outputs": [],
   "source": [
    "r, θ = sympy.symbols(\"r theta\")"
   ]
  },
  {
   "cell_type": "code",
   "execution_count": 4,
   "metadata": {},
   "outputs": [],
   "source": [
    "cos_θ = sympy.cos(θ)\n",
    "sin_θ = sympy.sin(θ)"
   ]
  },
  {
   "cell_type": "code",
   "execution_count": 5,
   "metadata": {},
   "outputs": [],
   "source": [
    "e_x = sympy.Matrix([cos_θ, -sin_θ])\n",
    "e_y = sympy.Matrix([sin_θ,  cos_θ])"
   ]
  },
  {
   "cell_type": "markdown",
   "metadata": {},
   "source": [
    "Recalling that in matrix form, $\\mathbf{u}\\otimes\\mathbf{v}$ is computed as $\\mathsf{u}\\cdot\\mathsf{v}^{\\mathsf T}$, we then express the macroscopic strain in the polar basis (note that the `@` operator denotes the matrix-matrix product in python)."
   ]
  },
  {
   "cell_type": "code",
   "execution_count": 6,
   "metadata": {},
   "outputs": [
    {
     "data": {
      "text/latex": [
       "$\\displaystyle \\left[\\begin{matrix}\\sin{\\left(2 \\theta \\right)} & \\cos{\\left(2 \\theta \\right)}\\\\\\cos{\\left(2 \\theta \\right)} & - \\sin{\\left(2 \\theta \\right)}\\end{matrix}\\right]$"
      ],
      "text/plain": [
       "⎡sin(2⋅θ)  cos(2⋅θ) ⎤\n",
       "⎢                   ⎥\n",
       "⎣cos(2⋅θ)  -sin(2⋅θ)⎦"
      ]
     },
     "execution_count": 6,
     "metadata": {},
     "output_type": "execute_result"
    }
   ],
   "source": [
    "eps_macro = e_x @ e_y.T + e_y @ e_x.T\n",
    "eps_macro = eps_macro.applyfunc(sympy.simplify)\n",
    "eps_macro"
   ]
  },
  {
   "cell_type": "markdown",
   "metadata": {},
   "source": [
    "In polar coordinates, we have on the boundary $\\mathbf x=R\\,\\mathbf e_r$. We introduce the dimensionless ratio $\\gamma$, such that $R=\\gamma a$ ($a$: radius of the inhomogeneity)."
   ]
  },
  {
   "cell_type": "code",
   "execution_count": 7,
   "metadata": {},
   "outputs": [],
   "source": [
    "a = sympy.Symbol(\"a\")\n",
    "γ = sympy.Symbol(\"gamma\")\n",
    "R = γ*a"
   ]
  },
  {
   "cell_type": "code",
   "execution_count": 8,
   "metadata": {},
   "outputs": [],
   "source": [
    "x = sympy.Matrix([R, 0])"
   ]
  },
  {
   "cell_type": "markdown",
   "metadata": {},
   "source": [
    "From which we deduce the prescribed displacement in polar coordinates"
   ]
  },
  {
   "cell_type": "code",
   "execution_count": 9,
   "metadata": {},
   "outputs": [
    {
     "data": {
      "text/latex": [
       "$\\displaystyle \\left[\\begin{matrix}a \\gamma \\sin{\\left(2 \\theta \\right)}\\\\a \\gamma \\cos{\\left(2 \\theta \\right)}\\end{matrix}\\right]$"
      ],
      "text/plain": [
       "⎡a⋅γ⋅sin(2⋅θ)⎤\n",
       "⎢            ⎥\n",
       "⎣a⋅γ⋅cos(2⋅θ)⎦"
      ]
     },
     "execution_count": 9,
     "metadata": {},
     "output_type": "execute_result"
    }
   ],
   "source": [
    "u_prescribed = eps_macro @ x\n",
    "u_prescribed"
   ]
  },
  {
   "cell_type": "markdown",
   "metadata": {},
   "source": [
    "This suggests the following functions $\\Phi$ and $\\Psi$"
   ]
  },
  {
   "cell_type": "code",
   "execution_count": 10,
   "metadata": {},
   "outputs": [],
   "source": [
    "Φ, Ψ = u_prescribed/R"
   ]
  },
  {
   "cell_type": "code",
   "execution_count": 11,
   "metadata": {},
   "outputs": [
    {
     "data": {
      "text/latex": [
       "$\\displaystyle \\sin{\\left(2 \\theta \\right)}$"
      ],
      "text/plain": [
       "sin(2⋅θ)"
      ]
     },
     "execution_count": 11,
     "metadata": {},
     "output_type": "execute_result"
    }
   ],
   "source": [
    "Φ"
   ]
  },
  {
   "cell_type": "code",
   "execution_count": 12,
   "metadata": {},
   "outputs": [
    {
     "data": {
      "text/latex": [
       "$\\displaystyle \\cos{\\left(2 \\theta \\right)}$"
      ],
      "text/plain": [
       "cos(2⋅θ)"
      ]
     },
     "execution_count": 12,
     "metadata": {},
     "output_type": "execute_result"
    }
   ],
   "source": [
    "Ψ"
   ]
  },
  {
   "cell_type": "markdown",
   "metadata": {},
   "source": [
    "## General form of $F$ and $G$"
   ]
  },
  {
   "cell_type": "markdown",
   "metadata": {},
   "source": [
    "It will be convenient to introduce the reduced radius $\\rho=r/a$."
   ]
  },
  {
   "cell_type": "code",
   "execution_count": 13,
   "metadata": {},
   "outputs": [],
   "source": [
    "ρ, E, ν = sympy.symbols(\"rho E nu\")\n",
    "μ = E/2/(1+ν)\n",
    "λ = 2*μ*ν/(1-2*ν)"
   ]
  },
  {
   "cell_type": "code",
   "execution_count": 14,
   "metadata": {},
   "outputs": [],
   "source": [
    "F = sympy.Function(\"F\")(ρ)\n",
    "G = sympy.Function(\"G\")(ρ)"
   ]
  },
  {
   "cell_type": "code",
   "execution_count": 15,
   "metadata": {},
   "outputs": [
    {
     "data": {
      "text/latex": [
       "$\\displaystyle \\left[\\begin{matrix}F{\\left(\\rho \\right)} \\sin{\\left(2 \\theta \\right)}\\\\G{\\left(\\rho \\right)} \\cos{\\left(2 \\theta \\right)}\\end{matrix}\\right]$"
      ],
      "text/plain": [
       "⎡F(ρ)⋅sin(2⋅θ)⎤\n",
       "⎢             ⎥\n",
       "⎣G(ρ)⋅cos(2⋅θ)⎦"
      ]
     },
     "execution_count": 15,
     "metadata": {},
     "output_type": "execute_result"
    }
   ],
   "source": [
    "u = sympy.Matrix([F*Φ, G*Ψ])\n",
    "u"
   ]
  },
  {
   "cell_type": "code",
   "execution_count": 16,
   "metadata": {},
   "outputs": [
    {
     "data": {
      "text/latex": [
       "$\\displaystyle \\left[\\begin{matrix}\\frac{\\sin{\\left(2 \\theta \\right)} \\frac{d}{d \\rho} F{\\left(\\rho \\right)}}{a} & \\frac{2 F{\\left(\\rho \\right)} \\cos{\\left(2 \\theta \\right)} - G{\\left(\\rho \\right)} \\cos{\\left(2 \\theta \\right)}}{a \\rho}\\\\\\frac{\\cos{\\left(2 \\theta \\right)} \\frac{d}{d \\rho} G{\\left(\\rho \\right)}}{a} & \\frac{F{\\left(\\rho \\right)} \\sin{\\left(2 \\theta \\right)} - 2 G{\\left(\\rho \\right)} \\sin{\\left(2 \\theta \\right)}}{a \\rho}\\end{matrix}\\right]$"
      ],
      "text/plain": [
       "⎡         d                                        ⎤\n",
       "⎢sin(2⋅θ)⋅──(F(ρ))                                 ⎥\n",
       "⎢         dρ        2⋅F(ρ)⋅cos(2⋅θ) - G(ρ)⋅cos(2⋅θ)⎥\n",
       "⎢─────────────────  ───────────────────────────────⎥\n",
       "⎢        a                        a⋅ρ              ⎥\n",
       "⎢                                                  ⎥\n",
       "⎢         d                                        ⎥\n",
       "⎢cos(2⋅θ)⋅──(G(ρ))                                 ⎥\n",
       "⎢         dρ        F(ρ)⋅sin(2⋅θ) - 2⋅G(ρ)⋅sin(2⋅θ)⎥\n",
       "⎢─────────────────  ───────────────────────────────⎥\n",
       "⎣        a                        a⋅ρ              ⎦"
      ]
     },
     "execution_count": 16,
     "metadata": {},
     "output_type": "execute_result"
    }
   ],
   "source": [
    "u_r, u_θ = u\n",
    "grad_u = sympy.Matrix([[u_r.diff(ρ), (u_r.diff(θ)-u_θ)/ρ],\n",
    "                       [u_θ.diff(ρ), (u_θ.diff(θ)+u_r)/ρ]])/a\n",
    "grad_u"
   ]
  },
  {
   "cell_type": "code",
   "execution_count": 17,
   "metadata": {},
   "outputs": [
    {
     "data": {
      "text/latex": [
       "$\\displaystyle \\left[\\begin{matrix}\\frac{\\sin{\\left(2 \\theta \\right)} \\frac{d}{d \\rho} F{\\left(\\rho \\right)}}{a} & \\frac{\\left(\\rho \\frac{d}{d \\rho} G{\\left(\\rho \\right)} + 2 F{\\left(\\rho \\right)} - G{\\left(\\rho \\right)}\\right) \\cos{\\left(2 \\theta \\right)}}{2 a \\rho}\\\\\\frac{\\left(\\rho \\frac{d}{d \\rho} G{\\left(\\rho \\right)} + 2 F{\\left(\\rho \\right)} - G{\\left(\\rho \\right)}\\right) \\cos{\\left(2 \\theta \\right)}}{2 a \\rho} & \\frac{\\left(F{\\left(\\rho \\right)} - 2 G{\\left(\\rho \\right)}\\right) \\sin{\\left(2 \\theta \\right)}}{a \\rho}\\end{matrix}\\right]$"
      ],
      "text/plain": [
       "⎡                   d                   ⎛  d                       ⎞         ⎤\n",
       "⎢          sin(2⋅θ)⋅──(F(ρ))            ⎜ρ⋅──(G(ρ)) + 2⋅F(ρ) - G(ρ)⎟⋅cos(2⋅θ)⎥\n",
       "⎢                   dρ                  ⎝  dρ                      ⎠         ⎥\n",
       "⎢          ─────────────────            ─────────────────────────────────────⎥\n",
       "⎢                  a                                    2⋅a⋅ρ                ⎥\n",
       "⎢                                                                            ⎥\n",
       "⎢⎛  d                       ⎞                                                ⎥\n",
       "⎢⎜ρ⋅──(G(ρ)) + 2⋅F(ρ) - G(ρ)⎟⋅cos(2⋅θ)                                       ⎥\n",
       "⎢⎝  dρ                      ⎠                 (F(ρ) - 2⋅G(ρ))⋅sin(2⋅θ)       ⎥\n",
       "⎢─────────────────────────────────────        ────────────────────────       ⎥\n",
       "⎣                2⋅a⋅ρ                                  a⋅ρ                  ⎦"
      ]
     },
     "execution_count": 17,
     "metadata": {},
     "output_type": "execute_result"
    }
   ],
   "source": [
    "ε = (grad_u+grad_u.T)/2\n",
    "ε = ε.applyfunc(sympy.expand)\n",
    "ε = ε.applyfunc(sympy.simplify)\n",
    "ε"
   ]
  },
  {
   "cell_type": "code",
   "execution_count": 18,
   "metadata": {},
   "outputs": [
    {
     "data": {
      "text/latex": [
       "$\\displaystyle \\left[\\begin{matrix}\\frac{E \\left(\\nu \\rho \\frac{d}{d \\rho} F{\\left(\\rho \\right)} - \\nu F{\\left(\\rho \\right)} + 2 \\nu G{\\left(\\rho \\right)} - \\rho \\frac{d}{d \\rho} F{\\left(\\rho \\right)}\\right) \\sin{\\left(2 \\theta \\right)}}{a \\rho \\left(2 \\nu^{2} + \\nu - 1\\right)} & \\frac{E \\left(\\rho \\frac{d}{d \\rho} G{\\left(\\rho \\right)} + 2 F{\\left(\\rho \\right)} - G{\\left(\\rho \\right)}\\right) \\cos{\\left(2 \\theta \\right)}}{2 a \\rho \\left(\\nu + 1\\right)}\\\\\\frac{E \\left(\\rho \\frac{d}{d \\rho} G{\\left(\\rho \\right)} + 2 F{\\left(\\rho \\right)} - G{\\left(\\rho \\right)}\\right) \\cos{\\left(2 \\theta \\right)}}{2 a \\rho \\left(\\nu + 1\\right)} & - \\frac{E \\left(\\nu \\rho \\frac{d}{d \\rho} F{\\left(\\rho \\right)} - \\nu F{\\left(\\rho \\right)} + 2 \\nu G{\\left(\\rho \\right)} + F{\\left(\\rho \\right)} - 2 G{\\left(\\rho \\right)}\\right) \\sin{\\left(2 \\theta \\right)}}{a \\rho \\left(2 \\nu^{2} + \\nu - 1\\right)}\\end{matrix}\\right]$"
      ],
      "text/plain": [
       "⎡  ⎛    d                                d       ⎞                         ⎛  \n",
       "⎢E⋅⎜ν⋅ρ⋅──(F(ρ)) - ν⋅F(ρ) + 2⋅ν⋅G(ρ) - ρ⋅──(F(ρ))⎟⋅sin(2⋅θ)              E⋅⎜ρ⋅\n",
       "⎢  ⎝    dρ                               dρ      ⎠                         ⎝  \n",
       "⎢──────────────────────────────────────────────────────────              ─────\n",
       "⎢                        ⎛   2        ⎞                                       \n",
       "⎢                    a⋅ρ⋅⎝2⋅ν  + ν - 1⎠                                       \n",
       "⎢                                                                             \n",
       "⎢           ⎛  d                       ⎞                        ⎛    d        \n",
       "⎢         E⋅⎜ρ⋅──(G(ρ)) + 2⋅F(ρ) - G(ρ)⎟⋅cos(2⋅θ)            -E⋅⎜ν⋅ρ⋅──(F(ρ)) \n",
       "⎢           ⎝  dρ                      ⎠                        ⎝    dρ       \n",
       "⎢         ───────────────────────────────────────            ─────────────────\n",
       "⎢                      2⋅a⋅ρ⋅(ν + 1)                                          \n",
       "⎣                                                                             \n",
       "\n",
       "d                       ⎞                     ⎤\n",
       "──(G(ρ)) + 2⋅F(ρ) - G(ρ)⎟⋅cos(2⋅θ)            ⎥\n",
       "dρ                      ⎠                     ⎥\n",
       "──────────────────────────────────            ⎥\n",
       "        2⋅a⋅ρ⋅(ν + 1)                         ⎥\n",
       "                                              ⎥\n",
       "                                              ⎥\n",
       "                                   ⎞          ⎥\n",
       "- ν⋅F(ρ) + 2⋅ν⋅G(ρ) + F(ρ) - 2⋅G(ρ)⎟⋅sin(2⋅θ) ⎥\n",
       "                                   ⎠          ⎥\n",
       "──────────────────────────────────────────────⎥\n",
       "          ⎛   2        ⎞                      ⎥\n",
       "      a⋅ρ⋅⎝2⋅ν  + ν - 1⎠                      ⎦"
      ]
     },
     "execution_count": 18,
     "metadata": {},
     "output_type": "execute_result"
    }
   ],
   "source": [
    "I = sympy.eye(2)\n",
    "σ = λ*ε.trace()*I+2*μ*ε\n",
    "σ = σ.applyfunc(sympy.expand)\n",
    "σ = σ.applyfunc(sympy.simplify)\n",
    "σ"
   ]
  },
  {
   "cell_type": "code",
   "execution_count": 19,
   "metadata": {},
   "outputs": [],
   "source": [
    "σ_rr = σ[0, 0]\n",
    "σ_rθ = σ[0, 1]\n",
    "σ_θθ = σ[1, 1]"
   ]
  },
  {
   "cell_type": "code",
   "execution_count": 20,
   "metadata": {},
   "outputs": [],
   "source": [
    "div_σ = (sympy.Matrix([σ_rr.diff(ρ)+(σ_rθ.diff(θ)+σ_rr-σ_θθ)/ρ,\n",
    "                       σ_rθ.diff(ρ)+(σ_θθ.diff(θ)+2*σ_rθ)/ρ])/a).applyfunc(sympy.factor)"
   ]
  },
  {
   "cell_type": "code",
   "execution_count": 21,
   "metadata": {},
   "outputs": [
    {
     "data": {
      "text/latex": [
       "$\\displaystyle \\left[\\begin{matrix}\\frac{E \\left(\\nu \\rho^{2} \\frac{d^{2}}{d \\rho^{2}} F{\\left(\\rho \\right)} + \\nu \\rho \\frac{d}{d \\rho} F{\\left(\\rho \\right)} - 5 \\nu F{\\left(\\rho \\right)} + 4 \\nu G{\\left(\\rho \\right)} - \\rho^{2} \\frac{d^{2}}{d \\rho^{2}} F{\\left(\\rho \\right)} - \\rho \\frac{d}{d \\rho} F{\\left(\\rho \\right)} + \\rho \\frac{d}{d \\rho} G{\\left(\\rho \\right)} + 3 F{\\left(\\rho \\right)} - 3 G{\\left(\\rho \\right)}\\right) \\sin{\\left(2 \\theta \\right)}}{a^{2} \\rho^{2} \\left(\\nu + 1\\right) \\left(2 \\nu - 1\\right)}\\\\- \\frac{E \\left(- 2 \\nu \\rho^{2} \\frac{d^{2}}{d \\rho^{2}} G{\\left(\\rho \\right)} - 2 \\nu \\rho \\frac{d}{d \\rho} G{\\left(\\rho \\right)} - 8 \\nu F{\\left(\\rho \\right)} + 10 \\nu G{\\left(\\rho \\right)} + \\rho^{2} \\frac{d^{2}}{d \\rho^{2}} G{\\left(\\rho \\right)} + 2 \\rho \\frac{d}{d \\rho} F{\\left(\\rho \\right)} + \\rho \\frac{d}{d \\rho} G{\\left(\\rho \\right)} + 6 F{\\left(\\rho \\right)} - 9 G{\\left(\\rho \\right)}\\right) \\cos{\\left(2 \\theta \\right)}}{2 a^{2} \\rho^{2} \\left(\\nu + 1\\right) \\left(2 \\nu - 1\\right)}\\end{matrix}\\right]$"
      ],
      "text/plain": [
       "⎡       ⎛       2                                                   2         \n",
       "⎢       ⎜   2  d              d                                 2  d          \n",
       "⎢     E⋅⎜ν⋅ρ ⋅───(F(ρ)) + ν⋅ρ⋅──(F(ρ)) - 5⋅ν⋅F(ρ) + 4⋅ν⋅G(ρ) - ρ ⋅───(F(ρ)) - \n",
       "⎢       ⎜       2             dρ                                    2         \n",
       "⎢       ⎝     dρ                                                  dρ          \n",
       "⎢     ────────────────────────────────────────────────────────────────────────\n",
       "⎢                                                        2  2                 \n",
       "⎢                                                       a ⋅ρ ⋅(ν + 1)⋅(2⋅ν - 1\n",
       "⎢                                                                             \n",
       "⎢   ⎛           2                                                      2      \n",
       "⎢   ⎜       2  d                d                                  2  d       \n",
       "⎢-E⋅⎜- 2⋅ν⋅ρ ⋅───(G(ρ)) - 2⋅ν⋅ρ⋅──(G(ρ)) - 8⋅ν⋅F(ρ) + 10⋅ν⋅G(ρ) + ρ ⋅───(G(ρ))\n",
       "⎢   ⎜           2               dρ                                     2      \n",
       "⎢   ⎝         dρ                                                     dρ       \n",
       "⎢─────────────────────────────────────────────────────────────────────────────\n",
       "⎢                                                         2  2                \n",
       "⎣                                                      2⋅a ⋅ρ ⋅(ν + 1)⋅(2⋅ν - \n",
       "\n",
       "                                         ⎞               ⎤\n",
       "  d            d                         ⎟               ⎥\n",
       "ρ⋅──(F(ρ)) + ρ⋅──(G(ρ)) + 3⋅F(ρ) - 3⋅G(ρ)⎟⋅sin(2⋅θ)      ⎥\n",
       "  dρ           dρ                        ⎟               ⎥\n",
       "                                         ⎠               ⎥\n",
       "───────────────────────────────────────────────────      ⎥\n",
       "                                                         ⎥\n",
       ")                                                        ⎥\n",
       "                                                         ⎥\n",
       "                                              ⎞          ⎥\n",
       "       d            d                         ⎟          ⎥\n",
       " + 2⋅ρ⋅──(F(ρ)) + ρ⋅──(G(ρ)) + 6⋅F(ρ) - 9⋅G(ρ)⎟⋅cos(2⋅θ) ⎥\n",
       "       dρ           dρ                        ⎟          ⎥\n",
       "                                              ⎠          ⎥\n",
       "─────────────────────────────────────────────────────────⎥\n",
       "                                                         ⎥\n",
       "1)                                                       ⎦"
      ]
     },
     "execution_count": 21,
     "metadata": {},
     "output_type": "execute_result"
    }
   ],
   "source": [
    "div_σ =div_σ.applyfunc(sympy.simplify)\n",
    "div_σ"
   ]
  },
  {
   "cell_type": "markdown",
   "metadata": {},
   "source": [
    "From the equilibrium equations, we get the following equations"
   ]
  },
  {
   "cell_type": "code",
   "execution_count": 22,
   "metadata": {},
   "outputs": [],
   "source": [
    "eq1, eq2 = ((1-2*ν)*(1+ν)*ρ**2*a**2/E*div_σ).applyfunc(sympy.factor)\n",
    "eq1 /= sympy.sin(2*θ)\n",
    "eq2 /= sympy.cos(2*θ)\n",
    "eq1 = eq1.expand()\n",
    "eq2 = eq2.expand()"
   ]
  },
  {
   "cell_type": "code",
   "execution_count": null,
   "metadata": {},
   "outputs": [],
   "source": []
  },
  {
   "cell_type": "markdown",
   "metadata": {},
   "source": [
    "and"
   ]
  },
  {
   "cell_type": "code",
   "execution_count": 23,
   "metadata": {},
   "outputs": [
    {
     "data": {
      "text/latex": [
       "$\\displaystyle - \\nu \\rho^{2} \\frac{d^{2}}{d \\rho^{2}} G{\\left(\\rho \\right)} - \\nu \\rho \\frac{d}{d \\rho} G{\\left(\\rho \\right)} - 4 \\nu F{\\left(\\rho \\right)} + 5 \\nu G{\\left(\\rho \\right)} + \\frac{\\rho^{2} \\frac{d^{2}}{d \\rho^{2}} G{\\left(\\rho \\right)}}{2} + \\rho \\frac{d}{d \\rho} F{\\left(\\rho \\right)} + \\frac{\\rho \\frac{d}{d \\rho} G{\\left(\\rho \\right)}}{2} + 3 F{\\left(\\rho \\right)} - \\frac{9 G{\\left(\\rho \\right)}}{2}$"
      ],
      "text/plain": [
       "                                                             2                \n",
       "                                                         2  d                 \n",
       "                                                        ρ ⋅───(G(ρ))          \n",
       "         2                                                   2                \n",
       "     2  d              d                                   dρ            d    \n",
       "- ν⋅ρ ⋅───(G(ρ)) - ν⋅ρ⋅──(G(ρ)) - 4⋅ν⋅F(ρ) + 5⋅ν⋅G(ρ) + ──────────── + ρ⋅──(F(\n",
       "         2             dρ                                    2           dρ   \n",
       "       dρ                                                                     \n",
       "\n",
       "                                  \n",
       "                                  \n",
       "        d                         \n",
       "      ρ⋅──(G(ρ))                  \n",
       "        dρ                  9⋅G(ρ)\n",
       "ρ)) + ────────── + 3⋅F(ρ) - ──────\n",
       "          2                   2   \n",
       "                                  "
      ]
     },
     "execution_count": 23,
     "metadata": {},
     "output_type": "execute_result"
    }
   ],
   "source": [
    "eq2"
   ]
  },
  {
   "cell_type": "markdown",
   "metadata": {},
   "source": [
    "We seek solutions of the form\n",
    "\n",
    "\\begin{equation*}\n",
    "F(\\rho)=A\\rho^n\\quad\\text{and}\\quad G(\\rho)=B\\rho^n\n",
    "\\end{equation*}"
   ]
  },
  {
   "cell_type": "code",
   "execution_count": 62,
   "metadata": {},
   "outputs": [],
   "source": [
    "A, B, n = sympy.symbols(\"A B n\")\n",
    "substitutions = {F: A*ρ**n, G: B*ρ**n}\n"
   ]
  },
  {
   "cell_type": "markdown",
   "metadata": {},
   "source": [
    "Which delivers the two equations"
   ]
  },
  {
   "cell_type": "code",
   "execution_count": 25,
   "metadata": {},
   "outputs": [
    {
     "data": {
      "text/latex": [
       "$\\displaystyle - A n^{2} \\nu + A n^{2} + 5 A \\nu - 3 A - B n - 4 B \\nu + 3 B$"
      ],
      "text/plain": [
       "     2        2                                  \n",
       "- A⋅n ⋅ν + A⋅n  + 5⋅A⋅ν - 3⋅A - B⋅n - 4⋅B⋅ν + 3⋅B"
      ]
     },
     "execution_count": 25,
     "metadata": {},
     "output_type": "execute_result"
    }
   ],
   "source": [
    "eq3 = eq1.subs(substitutions).doit().factor()/ρ**n\n",
    "eq3"
   ]
  },
  {
   "cell_type": "markdown",
   "metadata": {},
   "source": [
    "and"
   ]
  },
  {
   "cell_type": "code",
   "execution_count": 26,
   "metadata": {},
   "outputs": [
    {
     "data": {
      "text/latex": [
       "$\\displaystyle A n - 4 A \\nu + 3 A - B n^{2} \\nu + \\frac{B n^{2}}{2} + 5 B \\nu - \\frac{9 B}{2}$"
      ],
      "text/plain": [
       "                                2              \n",
       "                       2     B⋅n            9⋅B\n",
       "A⋅n - 4⋅A⋅ν + 3⋅A - B⋅n ⋅ν + ──── + 5⋅B⋅ν - ───\n",
       "                              2              2 "
      ]
     },
     "execution_count": 26,
     "metadata": {},
     "output_type": "execute_result"
    }
   ],
   "source": [
    "eq4 = eq2.subs(substitutions).doit().factor()/ρ**n\n",
    "eq4"
   ]
  },
  {
   "cell_type": "markdown",
   "metadata": {},
   "source": [
    "Or, in matrix form: $\\mathsf{M}\\cdot[A, B]^{\\mathsf T}=0$, where $\\mathsf M$ is the following matrix"
   ]
  },
  {
   "cell_type": "code",
   "execution_count": 27,
   "metadata": {},
   "outputs": [
    {
     "data": {
      "text/latex": [
       "$\\displaystyle \\left[\\begin{matrix}- n^{2} \\nu + n^{2} + 5 \\nu - 3 & - n - 4 \\nu + 3\\\\n - 4 \\nu + 3 & - n^{2} \\nu + \\frac{n^{2}}{2} + 5 \\nu - \\frac{9}{2}\\end{matrix}\\right]$"
      ],
      "text/plain": [
       "⎡   2      2                                 ⎤\n",
       "⎢- n ⋅ν + n  + 5⋅ν - 3      -n - 4⋅ν + 3     ⎥\n",
       "⎢                                            ⎥\n",
       "⎢                                 2          ⎥\n",
       "⎢                          2     n          9⎥\n",
       "⎢     n - 4⋅ν + 3       - n ⋅ν + ── + 5⋅ν - ─⎥\n",
       "⎣                                2          2⎦"
      ]
     },
     "execution_count": 27,
     "metadata": {},
     "output_type": "execute_result"
    }
   ],
   "source": [
    "M, _ = sympy.linear_eq_to_matrix([eq3, eq4], [A, B])\n",
    "M\n"
   ]
  },
  {
   "cell_type": "markdown",
   "metadata": {},
   "source": [
    "For the resulting system of equations to have a non-trivial solution $A=0$ and $B=0$, $\\det\\mathsf M$ must be zero."
   ]
  },
  {
   "cell_type": "code",
   "execution_count": 28,
   "metadata": {},
   "outputs": [
    {
     "data": {
      "text/latex": [
       "$\\displaystyle \\frac{\\left(n - 3\\right) \\left(n - 1\\right) \\left(n + 1\\right) \\left(n + 3\\right) \\left(\\nu - 1\\right) \\left(2 \\nu - 1\\right)}{2}$"
      ],
      "text/plain": [
       "(n - 3)⋅(n - 1)⋅(n + 1)⋅(n + 3)⋅(ν - 1)⋅(2⋅ν - 1)\n",
       "─────────────────────────────────────────────────\n",
       "                        2                        "
      ]
     },
     "execution_count": 28,
     "metadata": {},
     "output_type": "execute_result"
    }
   ],
   "source": [
    "det_M = M.det().factor()\n",
    "det_M"
   ]
  },
  {
   "cell_type": "code",
   "execution_count": 29,
   "metadata": {},
   "outputs": [
    {
     "data": {
      "text/latex": [
       "$\\displaystyle \\left[ -3, \\  -1, \\  1, \\  3\\right]$"
      ],
      "text/plain": [
       "[-3, -1, 1, 3]"
      ]
     },
     "execution_count": 29,
     "metadata": {},
     "output_type": "execute_result"
    }
   ],
   "source": [
    "n_sol = sympy.solve(det_M, n)\n",
    "n_sol"
   ]
  },
  {
   "cell_type": "markdown",
   "metadata": {},
   "source": [
    "For each value of $n$, we obtain a linear relationship between $A$ and $B$"
   ]
  },
  {
   "cell_type": "code",
   "execution_count": 30,
   "metadata": {},
   "outputs": [],
   "source": [
    "A_sol = {}\n",
    "B_sol = {}\n",
    "F_sol = 0\n",
    "G_sol = 0\n",
    "for n_i in n_sol:\n",
    "    A_n = sympy.Symbol(f\"A_{n_i}\")\n",
    "    B_n = sympy.solve(eq3.subs({n: n_i, A: A_n}), B)[0]\n",
    "    A_sol[n_i] = A_n\n",
    "    B_sol[n_i] = B_n\n",
    "    F_sol += A_n*ρ**n_i\n",
    "    G_sol += B_n*ρ**n_i"
   ]
  },
  {
   "cell_type": "markdown",
   "metadata": {},
   "source": [
    "And we have the general expression of $F$ and $G$"
   ]
  },
  {
   "cell_type": "code",
   "execution_count": 31,
   "metadata": {},
   "outputs": [
    {
     "data": {
      "text/latex": [
       "$\\displaystyle \\frac{A_{-1}}{\\rho} + \\frac{A_{-3}}{\\rho^{3}} + A_{1} \\rho + A_{3} \\rho^{3}$"
      ],
      "text/plain": [
       "A₋₁   A₋₃              3\n",
       "─── + ─── + A₁⋅ρ + A₃⋅ρ \n",
       " ρ      3               \n",
       "       ρ                "
      ]
     },
     "execution_count": 31,
     "metadata": {},
     "output_type": "execute_result"
    }
   ],
   "source": [
    "F_sol"
   ]
  },
  {
   "cell_type": "code",
   "execution_count": 32,
   "metadata": {},
   "outputs": [
    {
     "data": {
      "text/latex": [
       "$\\displaystyle \\frac{A_{-1} \\left(2 \\nu - 1\\right)}{2 \\rho \\left(\\nu - 1\\right)} - \\frac{A_{-3}}{\\rho^{3}} + A_{1} \\rho + \\rho^{3} \\left(- A_{3} + \\frac{3 A_{3}}{2 \\nu}\\right)$"
      ],
      "text/plain": [
       "A₋₁⋅(2⋅ν - 1)   A₋₃           3 ⎛      3⋅A₃⎞\n",
       "───────────── - ─── + A₁⋅ρ + ρ ⋅⎜-A₃ + ────⎟\n",
       " 2⋅ρ⋅(ν - 1)      3             ⎝      2⋅ν ⎠\n",
       "                 ρ                          "
      ]
     },
     "execution_count": 32,
     "metadata": {},
     "output_type": "execute_result"
    }
   ],
   "source": [
    "G_sol"
   ]
  },
  {
   "cell_type": "markdown",
   "metadata": {},
   "source": [
    "## Construction of the general solution in the matrix"
   ]
  },
  {
   "cell_type": "markdown",
   "metadata": {},
   "source": [
    "In the matrix, the Young modulus and Poisson ratio are $E_{\\mathrm m}$ and $\\nu_{\\mathrm m}$. In the matrix, all terms of $F$ and $G$ must be kept."
   ]
  },
  {
   "cell_type": "code",
   "execution_count": 33,
   "metadata": {},
   "outputs": [],
   "source": [
    "E_m = sympy.Symbol(r\"E_{\\mathrm m}\")\n",
    "ν_m = sympy.Symbol(r\"\\nu_{\\mathrm m}\")\n"
   ]
  },
  {
   "cell_type": "code",
   "execution_count": 34,
   "metadata": {},
   "outputs": [],
   "source": [
    "substitutions = {F: F_sol, G: G_sol, E: E_m, ν: ν_m}\n",
    "my_subs = lambda expr: expr.subs(substitutions).doit().factor()\n",
    "\n"
   ]
  },
  {
   "cell_type": "code",
   "execution_count": 35,
   "metadata": {},
   "outputs": [],
   "source": [
    "u_m, ε_m, σ_m = (expr.applyfunc(my_subs) for expr in (u, ε, σ))"
   ]
  },
  {
   "cell_type": "code",
   "execution_count": 36,
   "metadata": {},
   "outputs": [
    {
     "data": {
      "text/latex": [
       "$\\displaystyle \\left[\\begin{matrix}\\frac{\\left(A_{-1} \\rho^{2} + A_{-3} + A_{1} \\rho^{4} + A_{3} \\rho^{6}\\right) \\sin{\\left(2 \\theta \\right)}}{\\rho^{3}}\\\\\\frac{\\left(2 A_{-1} \\nu_{\\mathrm m}^{2} \\rho^{2} - A_{-1} \\nu_{\\mathrm m} \\rho^{2} - 2 A_{-3} \\nu_{\\mathrm m}^{2} + 2 A_{-3} \\nu_{\\mathrm m} + 2 A_{1} \\nu_{\\mathrm m}^{2} \\rho^{4} - 2 A_{1} \\nu_{\\mathrm m} \\rho^{4} - 2 A_{3} \\nu_{\\mathrm m}^{2} \\rho^{6} + 5 A_{3} \\nu_{\\mathrm m} \\rho^{6} - 3 A_{3} \\rho^{6}\\right) \\cos{\\left(2 \\theta \\right)}}{2 \\nu_{\\mathrm m} \\rho^{3} \\left(\\nu_{\\mathrm m} - 1\\right)}\\end{matrix}\\right]$"
      ],
      "text/plain": [
       "⎡                                                                             \n",
       "⎢                                                                             \n",
       "⎢                                                                             \n",
       "⎢                                                                             \n",
       "⎢                                                                             \n",
       "⎢                                                                             \n",
       "⎢⎛                     2  2                        2                        2 \n",
       "⎢⎝2⋅A₋₁⋅\\nu_{\\mathrm m} ⋅ρ  - A₋₁⋅\\nu_{\\mathrm m}⋅ρ  - 2⋅A₋₃⋅\\nu_{\\mathrm m}  \n",
       "⎢─────────────────────────────────────────────────────────────────────────────\n",
       "⎢                                                                             \n",
       "⎣                                                                             \n",
       "\n",
       "                ⎛     2             4       6⎞                                \n",
       "                ⎝A₋₁⋅ρ  + A₋₃ + A₁⋅ρ  + A₃⋅ρ ⎠⋅sin(2⋅θ)                       \n",
       "                ───────────────────────────────────────                       \n",
       "                                    3                                         \n",
       "                                   ρ                                          \n",
       "                                                                              \n",
       "                                              2  4                         4  \n",
       "+ 2⋅A₋₃⋅\\nu_{\\mathrm m} + 2⋅A₁⋅\\nu_{\\mathrm m} ⋅ρ  - 2⋅A₁⋅\\nu_{\\mathrm m}⋅ρ  -\n",
       "──────────────────────────────────────────────────────────────────────────────\n",
       "                                  3                                           \n",
       "               2⋅\\nu_{\\mathrm m}⋅ρ ⋅(\\nu_{\\mathrm m} - 1)                     \n",
       "\n",
       "                                                                       ⎤\n",
       "                                                                       ⎥\n",
       "                                                                       ⎥\n",
       "                                                                       ⎥\n",
       "                                                                       ⎥\n",
       "                                                                       ⎥\n",
       "                     2  6                         6         6⎞         ⎥\n",
       " 2⋅A₃⋅\\nu_{\\mathrm m} ⋅ρ  + 5⋅A₃⋅\\nu_{\\mathrm m}⋅ρ  - 3⋅A₃⋅ρ ⎠⋅cos(2⋅θ)⎥\n",
       "───────────────────────────────────────────────────────────────────────⎥\n",
       "                                                                       ⎥\n",
       "                                                                       ⎦"
      ]
     },
     "execution_count": 36,
     "metadata": {},
     "output_type": "execute_result"
    }
   ],
   "source": [
    "u_m"
   ]
  },
  {
   "cell_type": "code",
   "execution_count": 37,
   "metadata": {},
   "outputs": [
    {
     "data": {
      "text/latex": [
       "$\\displaystyle \\left[\\begin{matrix}\\frac{\\left(- A_{-1} \\rho^{2} - 3 A_{-3} + A_{1} \\rho^{4} + 3 A_{3} \\rho^{6}\\right) \\sin{\\left(2 \\theta \\right)}}{a \\rho^{4}} & \\frac{\\left(- A_{-1} \\nu_{\\mathrm m} \\rho^{2} + 6 A_{-3} \\nu_{\\mathrm m}^{2} - 6 A_{-3} \\nu_{\\mathrm m} + 2 A_{1} \\nu_{\\mathrm m}^{2} \\rho^{4} - 2 A_{1} \\nu_{\\mathrm m} \\rho^{4} + 3 A_{3} \\nu_{\\mathrm m} \\rho^{6} - 3 A_{3} \\rho^{6}\\right) \\cos{\\left(2 \\theta \\right)}}{2 \\nu_{\\mathrm m} a \\rho^{4} \\left(\\nu_{\\mathrm m} - 1\\right)}\\\\\\frac{\\left(- A_{-1} \\nu_{\\mathrm m} \\rho^{2} + 6 A_{-3} \\nu_{\\mathrm m}^{2} - 6 A_{-3} \\nu_{\\mathrm m} + 2 A_{1} \\nu_{\\mathrm m}^{2} \\rho^{4} - 2 A_{1} \\nu_{\\mathrm m} \\rho^{4} + 3 A_{3} \\nu_{\\mathrm m} \\rho^{6} - 3 A_{3} \\rho^{6}\\right) \\cos{\\left(2 \\theta \\right)}}{2 \\nu_{\\mathrm m} a \\rho^{4} \\left(\\nu_{\\mathrm m} - 1\\right)} & - \\frac{\\left(A_{-1} \\nu_{\\mathrm m}^{2} \\rho^{2} - 3 A_{-3} \\nu_{\\mathrm m}^{2} + 3 A_{-3} \\nu_{\\mathrm m} + A_{1} \\nu_{\\mathrm m}^{2} \\rho^{4} - A_{1} \\nu_{\\mathrm m} \\rho^{4} - 3 A_{3} \\nu_{\\mathrm m}^{2} \\rho^{6} + 6 A_{3} \\nu_{\\mathrm m} \\rho^{6} - 3 A_{3} \\rho^{6}\\right) \\sin{\\left(2 \\theta \\right)}}{\\nu_{\\mathrm m} a \\rho^{4} \\left(\\nu_{\\mathrm m} - 1\\right)}\\end{matrix}\\right]$"
      ],
      "text/plain": [
       "⎡                                                                ⎛       2    \n",
       "⎢                                                                ⎝- A₋₁⋅ρ  - 3\n",
       "⎢                                                                ─────────────\n",
       "⎢                                                                             \n",
       "⎢                                                                             \n",
       "⎢                                                                             \n",
       "⎢⎛                       2                        2                           \n",
       "⎢⎝- A₋₁⋅\\nu_{\\mathrm m}⋅ρ  + 6⋅A₋₃⋅\\nu_{\\mathrm m}  - 6⋅A₋₃⋅\\nu_{\\mathrm m} + \n",
       "⎢─────────────────────────────────────────────────────────────────────────────\n",
       "⎢                                                                             \n",
       "⎣                                                                 2⋅\\nu_{\\math\n",
       "\n",
       "           4         6⎞                                                       \n",
       "⋅A₋₃ + A₁⋅ρ  + 3⋅A₃⋅ρ ⎠⋅sin(2⋅θ)                                              \n",
       "────────────────────────────────                                              \n",
       "           4                                                                  \n",
       "        a⋅ρ                                                                   \n",
       "                                                                              \n",
       "                    2  4                         4                         6  \n",
       "2⋅A₁⋅\\nu_{\\mathrm m} ⋅ρ  - 2⋅A₁⋅\\nu_{\\mathrm m}⋅ρ  + 3⋅A₃⋅\\nu_{\\mathrm m}⋅ρ  -\n",
       "──────────────────────────────────────────────────────────────────────────────\n",
       "         4                                                                    \n",
       "rm m}⋅a⋅ρ ⋅(\\nu_{\\mathrm m} - 1)                                              \n",
       "\n",
       "                                ⎛                       2                     \n",
       "                                ⎝- A₋₁⋅\\nu_{\\mathrm m}⋅ρ  + 6⋅A₋₃⋅\\nu_{\\mathrm\n",
       "                                ──────────────────────────────────────────────\n",
       "                                                                              \n",
       "                                                                              \n",
       "                                                                              \n",
       "       6⎞            ⎛                   2  2                        2        \n",
       " 3⋅A₃⋅ρ ⎠⋅cos(2⋅θ)  -⎝A₋₁⋅\\nu_{\\mathrm m} ⋅ρ  - 3⋅A₋₃⋅\\nu_{\\mathrm m}  + 3⋅A₋₃\n",
       "──────────────────  ──────────────────────────────────────────────────────────\n",
       "                                                                              \n",
       "                                                                              \n",
       "\n",
       "   2                                               2  4                       \n",
       " m}  - 6⋅A₋₃⋅\\nu_{\\mathrm m} + 2⋅A₁⋅\\nu_{\\mathrm m} ⋅ρ  - 2⋅A₁⋅\\nu_{\\mathrm m}\n",
       "──────────────────────────────────────────────────────────────────────────────\n",
       "                                        4                                     \n",
       "                   2⋅\\nu_{\\mathrm m}⋅a⋅ρ ⋅(\\nu_{\\mathrm m} - 1)               \n",
       "                                                                              \n",
       "                                     2  4                       4             \n",
       "⋅\\nu_{\\mathrm m} + A₁⋅\\nu_{\\mathrm m} ⋅ρ  - A₁⋅\\nu_{\\mathrm m}⋅ρ  - 3⋅A₃⋅\\nu_{\n",
       "──────────────────────────────────────────────────────────────────────────────\n",
       "                                       4                                      \n",
       "                    \\nu_{\\mathrm m}⋅a⋅ρ ⋅(\\nu_{\\mathrm m} - 1)                \n",
       "\n",
       "  4                         6         6⎞                     ⎤\n",
       "⋅ρ  + 3⋅A₃⋅\\nu_{\\mathrm m}⋅ρ  - 3⋅A₃⋅ρ ⎠⋅cos(2⋅θ)            ⎥\n",
       "─────────────────────────────────────────────────            ⎥\n",
       "                                                             ⎥\n",
       "                                                             ⎥\n",
       "                                                             ⎥\n",
       "          2  6                         6         6⎞          ⎥\n",
       "\\mathrm m} ⋅ρ  + 6⋅A₃⋅\\nu_{\\mathrm m}⋅ρ  - 3⋅A₃⋅ρ ⎠⋅sin(2⋅θ) ⎥\n",
       "─────────────────────────────────────────────────────────────⎥\n",
       "                                                             ⎥\n",
       "                                                             ⎦"
      ]
     },
     "execution_count": 37,
     "metadata": {},
     "output_type": "execute_result"
    }
   ],
   "source": [
    "ε_m"
   ]
  },
  {
   "cell_type": "code",
   "execution_count": 38,
   "metadata": {
    "scrolled": true
   },
   "outputs": [
    {
     "data": {
      "text/latex": [
       "$\\displaystyle \\left[\\begin{matrix}\\frac{E_{\\mathrm m} \\left(A_{-1} \\rho^{2} - 3 A_{-3} \\nu_{\\mathrm m} + 3 A_{-3} + A_{1} \\nu_{\\mathrm m} \\rho^{4} - A_{1} \\rho^{4}\\right) \\sin{\\left(2 \\theta \\right)}}{a \\rho^{4} \\left(\\nu_{\\mathrm m} - 1\\right) \\left(\\nu_{\\mathrm m} + 1\\right)} & \\frac{E_{\\mathrm m} \\left(- A_{-1} \\nu_{\\mathrm m} \\rho^{2} + 6 A_{-3} \\nu_{\\mathrm m}^{2} - 6 A_{-3} \\nu_{\\mathrm m} + 2 A_{1} \\nu_{\\mathrm m}^{2} \\rho^{4} - 2 A_{1} \\nu_{\\mathrm m} \\rho^{4} + 3 A_{3} \\nu_{\\mathrm m} \\rho^{6} - 3 A_{3} \\rho^{6}\\right) \\cos{\\left(2 \\theta \\right)}}{2 \\nu_{\\mathrm m} a \\rho^{4} \\left(\\nu_{\\mathrm m} - 1\\right) \\left(\\nu_{\\mathrm m} + 1\\right)}\\\\\\frac{E_{\\mathrm m} \\left(- A_{-1} \\nu_{\\mathrm m} \\rho^{2} + 6 A_{-3} \\nu_{\\mathrm m}^{2} - 6 A_{-3} \\nu_{\\mathrm m} + 2 A_{1} \\nu_{\\mathrm m}^{2} \\rho^{4} - 2 A_{1} \\nu_{\\mathrm m} \\rho^{4} + 3 A_{3} \\nu_{\\mathrm m} \\rho^{6} - 3 A_{3} \\rho^{6}\\right) \\cos{\\left(2 \\theta \\right)}}{2 \\nu_{\\mathrm m} a \\rho^{4} \\left(\\nu_{\\mathrm m} - 1\\right) \\left(\\nu_{\\mathrm m} + 1\\right)} & - \\frac{E_{\\mathrm m} \\left(- 3 A_{-3} \\nu_{\\mathrm m} + A_{1} \\nu_{\\mathrm m} \\rho^{4} + 3 A_{3} \\rho^{6}\\right) \\sin{\\left(2 \\theta \\right)}}{\\nu_{\\mathrm m} a \\rho^{4} \\left(\\nu_{\\mathrm m} + 1\\right)}\\end{matrix}\\right]$"
      ],
      "text/plain": [
       "⎡                                                            ⎛     2          \n",
       "⎢                                              E_{\\mathrm m}⋅⎝A₋₁⋅ρ  - 3⋅A₋₃⋅\\\n",
       "⎢                                              ───────────────────────────────\n",
       "⎢                                                                         4   \n",
       "⎢                                                                      a⋅ρ ⋅(\\\n",
       "⎢                                                                             \n",
       "⎢              ⎛                       2                        2             \n",
       "⎢E_{\\mathrm m}⋅⎝- A₋₁⋅\\nu_{\\mathrm m}⋅ρ  + 6⋅A₋₃⋅\\nu_{\\mathrm m}  - 6⋅A₋₃⋅\\nu_\n",
       "⎢─────────────────────────────────────────────────────────────────────────────\n",
       "⎢                                                                             \n",
       "⎣                                                             2⋅\\nu_{\\mathrm m\n",
       "\n",
       "                                             4       4⎞                       \n",
       "nu_{\\mathrm m} + 3⋅A₋₃ + A₁⋅\\nu_{\\mathrm m}⋅ρ  - A₁⋅ρ ⎠⋅sin(2⋅θ)              \n",
       "────────────────────────────────────────────────────────────────              \n",
       "                                                                              \n",
       "nu_{\\mathrm m} - 1)⋅(\\nu_{\\mathrm m} + 1)                                     \n",
       "                                                                              \n",
       "                                  2  4                         4              \n",
       "{\\mathrm m} + 2⋅A₁⋅\\nu_{\\mathrm m} ⋅ρ  - 2⋅A₁⋅\\nu_{\\mathrm m}⋅ρ  + 3⋅A₃⋅\\nu_{\\\n",
       "──────────────────────────────────────────────────────────────────────────────\n",
       "     4                                                                        \n",
       "}⋅a⋅ρ ⋅(\\nu_{\\mathrm m} - 1)⋅(\\nu_{\\mathrm m} + 1)                            \n",
       "\n",
       "                                                ⎛                       2     \n",
       "                                  E_{\\mathrm m}⋅⎝- A₋₁⋅\\nu_{\\mathrm m}⋅ρ  + 6⋅\n",
       "                                  ────────────────────────────────────────────\n",
       "                                                                              \n",
       "                                                                              \n",
       "                                                                              \n",
       "           6         6⎞                                                       \n",
       "mathrm m}⋅ρ  - 3⋅A₃⋅ρ ⎠⋅cos(2⋅θ)                                              \n",
       "────────────────────────────────                                              \n",
       "                                                                              \n",
       "                                                                              \n",
       "\n",
       "                   2                                               2  4       \n",
       "A₋₃⋅\\nu_{\\mathrm m}  - 6⋅A₋₃⋅\\nu_{\\mathrm m} + 2⋅A₁⋅\\nu_{\\mathrm m} ⋅ρ  - 2⋅A₁\n",
       "──────────────────────────────────────────────────────────────────────────────\n",
       "                                      4                                       \n",
       "                 2⋅\\nu_{\\mathrm m}⋅a⋅ρ ⋅(\\nu_{\\mathrm m} - 1)⋅(\\nu_{\\mathrm m}\n",
       "                                                                              \n",
       "                       ⎛                                             4        \n",
       "        -E_{\\mathrm m}⋅⎝-3⋅A₋₃⋅\\nu_{\\mathrm m} + A₁⋅\\nu_{\\mathrm m}⋅ρ  + 3⋅A₃⋅\n",
       "        ──────────────────────────────────────────────────────────────────────\n",
       "                                                4                             \n",
       "                             \\nu_{\\mathrm m}⋅a⋅ρ ⋅(\\nu_{\\mathrm m} + 1)       \n",
       "\n",
       "                  4                         6         6⎞         ⎤\n",
       "⋅\\nu_{\\mathrm m}⋅ρ  + 3⋅A₃⋅\\nu_{\\mathrm m}⋅ρ  - 3⋅A₃⋅ρ ⎠⋅cos(2⋅θ)⎥\n",
       "─────────────────────────────────────────────────────────────────⎥\n",
       "                                                                 ⎥\n",
       " + 1)                                                            ⎥\n",
       "                                                                 ⎥\n",
       " 6⎞                                                              ⎥\n",
       "ρ ⎠⋅sin(2⋅θ)                                                     ⎥\n",
       "─────────────                                                    ⎥\n",
       "                                                                 ⎥\n",
       "                                                                 ⎦"
      ]
     },
     "execution_count": 38,
     "metadata": {},
     "output_type": "execute_result"
    }
   ],
   "source": [
    "σ_m"
   ]
  },
  {
   "cell_type": "markdown",
   "metadata": {},
   "source": [
    "We must express that the boundary conditions (at $r=R$) are satisfied, which delivers two equations."
   ]
  },
  {
   "cell_type": "code",
   "execution_count": 39,
   "metadata": {},
   "outputs": [],
   "source": [
    "eq5, eq6 = (u_m.subs(ρ, γ)-u_prescribed).applyfunc(sympy.factor)\n",
    "eq5 *= 2*γ**3/sympy.sin(2*θ)\n",
    "eq6 *= 2*γ**3*ν_m*(1-ν_m)/sympy.cos(2*θ)\n",
    "eq6 = eq6.factor()"
   ]
  },
  {
   "cell_type": "code",
   "execution_count": 40,
   "metadata": {},
   "outputs": [
    {
     "data": {
      "text/latex": [
       "$\\displaystyle 2 A_{-1} \\gamma^{2} + 2 A_{-3} + 2 A_{1} \\gamma^{4} + 2 A_{3} \\gamma^{6} - 2 a \\gamma^{4}$"
      ],
      "text/plain": [
       "       2                 4         6        4\n",
       "2⋅A₋₁⋅γ  + 2⋅A₋₃ + 2⋅A₁⋅γ  + 2⋅A₃⋅γ  - 2⋅a⋅γ "
      ]
     },
     "execution_count": 40,
     "metadata": {},
     "output_type": "execute_result"
    }
   ],
   "source": [
    "eq5"
   ]
  },
  {
   "cell_type": "code",
   "execution_count": 41,
   "metadata": {},
   "outputs": [
    {
     "data": {
      "text/latex": [
       "$\\displaystyle - 2 A_{-1} \\nu_{\\mathrm m}^{2} \\gamma^{2} + A_{-1} \\nu_{\\mathrm m} \\gamma^{2} + 2 A_{-3} \\nu_{\\mathrm m}^{2} - 2 A_{-3} \\nu_{\\mathrm m} - 2 A_{1} \\nu_{\\mathrm m}^{2} \\gamma^{4} + 2 A_{1} \\nu_{\\mathrm m} \\gamma^{4} + 2 A_{3} \\nu_{\\mathrm m}^{2} \\gamma^{6} - 5 A_{3} \\nu_{\\mathrm m} \\gamma^{6} + 3 A_{3} \\gamma^{6} + 2 \\nu_{\\mathrm m}^{2} a \\gamma^{4} - 2 \\nu_{\\mathrm m} a \\gamma^{4}$"
      ],
      "text/plain": [
       "                       2  2                        2                        2 \n",
       "- 2⋅A₋₁⋅\\nu_{\\mathrm m} ⋅γ  + A₋₁⋅\\nu_{\\mathrm m}⋅γ  + 2⋅A₋₃⋅\\nu_{\\mathrm m}  \n",
       "\n",
       "                                              2  4                         4  \n",
       "- 2⋅A₋₃⋅\\nu_{\\mathrm m} - 2⋅A₁⋅\\nu_{\\mathrm m} ⋅γ  + 2⋅A₁⋅\\nu_{\\mathrm m}⋅γ  +\n",
       "\n",
       "                     2  6                         6         6                 \n",
       " 2⋅A₃⋅\\nu_{\\mathrm m} ⋅γ  - 5⋅A₃⋅\\nu_{\\mathrm m}⋅γ  + 3⋅A₃⋅γ  + 2⋅\\nu_{\\mathrm\n",
       "\n",
       "   2    4                        4\n",
       " m} ⋅a⋅γ  - 2⋅\\nu_{\\mathrm m}⋅a⋅γ "
      ]
     },
     "execution_count": 41,
     "metadata": {},
     "output_type": "execute_result"
    }
   ],
   "source": [
    "eq6"
   ]
  },
  {
   "cell_type": "markdown",
   "metadata": {},
   "source": [
    "## Construction of the solution inside the inhomogeneity"
   ]
  },
  {
   "cell_type": "markdown",
   "metadata": {},
   "source": [
    "For $r\\leq a$ ($\\rho\\leq 1$), we must eliminate the singular terms. In the inhomogeneity, the Young modulus and Poisson ratio are $E_{\\mathrm i}=\\chi E_{\\mathrm m}$ ($\\chi$: dimensionless ratio, elastic contrast) and $\\nu_{\\mathrm i}$."
   ]
  },
  {
   "cell_type": "code",
   "execution_count": 42,
   "metadata": {},
   "outputs": [],
   "source": [
    "χ = sympy.Symbol(\"chi\")\n",
    "ν_i = sympy.Symbol(r\"\\nu_{\\mathrm i}\")"
   ]
  },
  {
   "cell_type": "code",
   "execution_count": 43,
   "metadata": {},
   "outputs": [
    {
     "data": {
      "text/latex": [
       "$\\displaystyle \\left\\{ A_{-1} : 0, \\  A_{-3} : 0, \\  A_{1} : C_{1}, \\  A_{3} : C_{3}, \\  E_{\\mathrm m} : E_{\\mathrm m} \\chi, \\  \\nu_{\\mathrm m} : \\nu_{\\mathrm i}\\right\\}$"
      ],
      "text/plain": [
       "{A₋₁: 0, A₋₃: 0, A₁: C₁, A₃: C₃, E_{\\mathrm m}: E_{\\mathrm m}⋅χ, \\nu_{\\mathrm \n",
       "m}: \\nu_{\\mathrm i}}"
      ]
     },
     "metadata": {},
     "output_type": "display_data"
    },
    {
     "data": {
      "text/latex": [
       "$\\displaystyle \\left[ A_{-3}, \\  A_{-1}, \\  A_{1}, \\  A_{3}, \\  C_{1}, \\  C_{3}\\right]$"
      ],
      "text/plain": [
       "[A₋₃, A₋₁, A₁, A₃, C₁, C₃]"
      ]
     },
     "metadata": {},
     "output_type": "display_data"
    }
   ],
   "source": [
    "unknowns = list(A_sol.values())\n",
    "substitutions = {E_m: χ*E_m, ν_m: ν_i}\n",
    "\n",
    "for n_, A_n in A_sol.items():\n",
    "    if n_ <= 0:\n",
    "        substitutions[A_n] = 0\n",
    "    else:\n",
    "        C_n = sympy.Symbol(f\"C_{n_}\")\n",
    "        unknowns.append(C_n)\n",
    "        substitutions[A_n] = C_n\n",
    "display(substitutions)\n",
    "display(unknowns)"
   ]
  },
  {
   "cell_type": "code",
   "execution_count": 44,
   "metadata": {},
   "outputs": [],
   "source": [
    "my_subs = lambda expr: expr.subs(substitutions).factor()\n",
    "\n",
    "u_i, ε_i, σ_i = (expr.applyfunc(my_subs) for expr in (u_m, ε_m, σ_m))"
   ]
  },
  {
   "cell_type": "code",
   "execution_count": 45,
   "metadata": {},
   "outputs": [
    {
     "data": {
      "text/latex": [
       "$\\displaystyle \\left[\\begin{matrix}\\rho \\left(C_{1} + C_{3} \\rho^{2}\\right) \\sin{\\left(2 \\theta \\right)}\\\\\\frac{\\rho \\left(2 C_{1} \\nu_{\\mathrm i} - 2 C_{3} \\nu_{\\mathrm i} \\rho^{2} + 3 C_{3} \\rho^{2}\\right) \\cos{\\left(2 \\theta \\right)}}{2 \\nu_{\\mathrm i}}\\end{matrix}\\right]$"
      ],
      "text/plain": [
       "⎡                         ⎛         2⎞                                ⎤\n",
       "⎢                       ρ⋅⎝C₁ + C₃⋅ρ ⎠⋅sin(2⋅θ)                       ⎥\n",
       "⎢                                                                     ⎥\n",
       "⎢  ⎛                                             2         2⎞         ⎥\n",
       "⎢ρ⋅⎝2⋅C₁⋅\\nu_{\\mathrm i} - 2⋅C₃⋅\\nu_{\\mathrm i}⋅ρ  + 3⋅C₃⋅ρ ⎠⋅cos(2⋅θ)⎥\n",
       "⎢─────────────────────────────────────────────────────────────────────⎥\n",
       "⎣                          2⋅\\nu_{\\mathrm i}                          ⎦"
      ]
     },
     "execution_count": 45,
     "metadata": {},
     "output_type": "execute_result"
    }
   ],
   "source": [
    "u_i"
   ]
  },
  {
   "cell_type": "code",
   "execution_count": 46,
   "metadata": {},
   "outputs": [
    {
     "data": {
      "text/latex": [
       "$\\displaystyle \\left[\\begin{matrix}\\frac{\\left(C_{1} + 3 C_{3} \\rho^{2}\\right) \\sin{\\left(2 \\theta \\right)}}{a} & \\frac{\\left(2 C_{1} \\nu_{\\mathrm i} + 3 C_{3} \\rho^{2}\\right) \\cos{\\left(2 \\theta \\right)}}{2 \\nu_{\\mathrm i} a}\\\\\\frac{\\left(2 C_{1} \\nu_{\\mathrm i} + 3 C_{3} \\rho^{2}\\right) \\cos{\\left(2 \\theta \\right)}}{2 \\nu_{\\mathrm i} a} & - \\frac{\\left(C_{1} \\nu_{\\mathrm i} - 3 C_{3} \\nu_{\\mathrm i} \\rho^{2} + 3 C_{3} \\rho^{2}\\right) \\sin{\\left(2 \\theta \\right)}}{\\nu_{\\mathrm i} a}\\end{matrix}\\right]$"
      ],
      "text/plain": [
       "⎡         ⎛           2⎞                                 ⎛                    \n",
       "⎢         ⎝C₁ + 3⋅C₃⋅ρ ⎠⋅sin(2⋅θ)                        ⎝2⋅C₁⋅\\nu_{\\mathrm i}\n",
       "⎢         ───────────────────────                        ─────────────────────\n",
       "⎢                    a                                              2⋅\\nu_{\\ma\n",
       "⎢                                                                             \n",
       "⎢⎛                             2⎞            ⎛                                \n",
       "⎢⎝2⋅C₁⋅\\nu_{\\mathrm i} + 3⋅C₃⋅ρ ⎠⋅cos(2⋅θ)  -⎝C₁⋅\\nu_{\\mathrm i} - 3⋅C₃⋅\\nu_{\\\n",
       "⎢─────────────────────────────────────────  ──────────────────────────────────\n",
       "⎣           2⋅\\nu_{\\mathrm i}⋅a                                      \\nu_{\\mat\n",
       "\n",
       "         2⎞                      ⎤\n",
       " + 3⋅C₃⋅ρ ⎠⋅cos(2⋅θ)             ⎥\n",
       "────────────────────             ⎥\n",
       "thrm i}⋅a                        ⎥\n",
       "                                 ⎥\n",
       "           2         2⎞          ⎥\n",
       "mathrm i}⋅ρ  + 3⋅C₃⋅ρ ⎠⋅sin(2⋅θ) ⎥\n",
       "─────────────────────────────────⎥\n",
       "hrm i}⋅a                         ⎦"
      ]
     },
     "execution_count": 46,
     "metadata": {},
     "output_type": "execute_result"
    }
   ],
   "source": [
    "ε_i"
   ]
  },
  {
   "cell_type": "code",
   "execution_count": 47,
   "metadata": {},
   "outputs": [
    {
     "data": {
      "text/latex": [
       "$\\displaystyle \\left[\\begin{matrix}\\frac{C_{1} E_{\\mathrm m} \\chi \\sin{\\left(2 \\theta \\right)}}{a \\left(\\nu_{\\mathrm i} + 1\\right)} & \\frac{E_{\\mathrm m} \\chi \\left(2 C_{1} \\nu_{\\mathrm i} + 3 C_{3} \\rho^{2}\\right) \\cos{\\left(2 \\theta \\right)}}{2 \\nu_{\\mathrm i} a \\left(\\nu_{\\mathrm i} + 1\\right)}\\\\\\frac{E_{\\mathrm m} \\chi \\left(2 C_{1} \\nu_{\\mathrm i} + 3 C_{3} \\rho^{2}\\right) \\cos{\\left(2 \\theta \\right)}}{2 \\nu_{\\mathrm i} a \\left(\\nu_{\\mathrm i} + 1\\right)} & - \\frac{E_{\\mathrm m} \\chi \\left(C_{1} \\nu_{\\mathrm i} + 3 C_{3} \\rho^{2}\\right) \\sin{\\left(2 \\theta \\right)}}{\\nu_{\\mathrm i} a \\left(\\nu_{\\mathrm i} + 1\\right)}\\end{matrix}\\right]$"
      ],
      "text/plain": [
       "⎡                                                                           ⎛ \n",
       "⎢               C₁⋅E_{\\mathrm m}⋅χ⋅sin(2⋅θ)                 E_{\\mathrm m}⋅χ⋅⎝2\n",
       "⎢               ───────────────────────────                 ──────────────────\n",
       "⎢                 a⋅(\\nu_{\\mathrm i} + 1)                           2⋅\\nu_{\\ma\n",
       "⎢                                                                             \n",
       "⎢                ⎛                             2⎞                            ⎛\n",
       "⎢E_{\\mathrm m}⋅χ⋅⎝2⋅C₁⋅\\nu_{\\mathrm i} + 3⋅C₃⋅ρ ⎠⋅cos(2⋅θ)  -E_{\\mathrm m}⋅χ⋅⎝\n",
       "⎢─────────────────────────────────────────────────────────  ──────────────────\n",
       "⎣        2⋅\\nu_{\\mathrm i}⋅a⋅(\\nu_{\\mathrm i} + 1)                   \\nu_{\\mat\n",
       "\n",
       "                            2⎞         ⎤\n",
       "⋅C₁⋅\\nu_{\\mathrm i} + 3⋅C₃⋅ρ ⎠⋅cos(2⋅θ)⎥\n",
       "───────────────────────────────────────⎥\n",
       "thrm i}⋅a⋅(\\nu_{\\mathrm i} + 1)        ⎥\n",
       "                                       ⎥\n",
       "                           2⎞          ⎥\n",
       "C₁⋅\\nu_{\\mathrm i} + 3⋅C₃⋅ρ ⎠⋅sin(2⋅θ) ⎥\n",
       "───────────────────────────────────────⎥\n",
       "hrm i}⋅a⋅(\\nu_{\\mathrm i} + 1)         ⎦"
      ]
     },
     "execution_count": 47,
     "metadata": {},
     "output_type": "execute_result"
    }
   ],
   "source": [
    "σ_i"
   ]
  },
  {
   "cell_type": "markdown",
   "metadata": {},
   "source": [
    "## Continuity at the interface"
   ]
  },
  {
   "cell_type": "markdown",
   "metadata": {},
   "source": [
    "We first express that the displacements are continuous at $r=a$, which delivers two equations"
   ]
  },
  {
   "cell_type": "code",
   "execution_count": 48,
   "metadata": {},
   "outputs": [],
   "source": [
    "eq7, eq8 = (u_m-u_i).subs(ρ, 1).applyfunc(sympy.factor)\n",
    "eq7 /= sympy.sin(2*θ)\n",
    "eq8 *= 2*ν_i*ν_m*(1-ν_m)/sympy.cos(2*θ)\n",
    "eq8 = eq8.factor()"
   ]
  },
  {
   "cell_type": "code",
   "execution_count": 49,
   "metadata": {},
   "outputs": [
    {
     "data": {
      "text/latex": [
       "$\\displaystyle A_{-1} + A_{-3} + A_{1} + A_{3} - C_{1} - C_{3}$"
      ],
      "text/plain": [
       "A₋₁ + A₋₃ + A₁ + A₃ - C₁ - C₃"
      ]
     },
     "execution_count": 49,
     "metadata": {},
     "output_type": "execute_result"
    }
   ],
   "source": [
    "eq7"
   ]
  },
  {
   "cell_type": "code",
   "execution_count": 50,
   "metadata": {},
   "outputs": [
    {
     "data": {
      "text/latex": [
       "$\\displaystyle - 2 A_{-1} \\nu_{\\mathrm i} \\nu_{\\mathrm m}^{2} + A_{-1} \\nu_{\\mathrm i} \\nu_{\\mathrm m} + 2 A_{-3} \\nu_{\\mathrm i} \\nu_{\\mathrm m}^{2} - 2 A_{-3} \\nu_{\\mathrm i} \\nu_{\\mathrm m} - 2 A_{1} \\nu_{\\mathrm i} \\nu_{\\mathrm m}^{2} + 2 A_{1} \\nu_{\\mathrm i} \\nu_{\\mathrm m} + 2 A_{3} \\nu_{\\mathrm i} \\nu_{\\mathrm m}^{2} - 5 A_{3} \\nu_{\\mathrm i} \\nu_{\\mathrm m} + 3 A_{3} \\nu_{\\mathrm i} + 2 C_{1} \\nu_{\\mathrm i} \\nu_{\\mathrm m}^{2} - 2 C_{1} \\nu_{\\mathrm i} \\nu_{\\mathrm m} - 2 C_{3} \\nu_{\\mathrm i} \\nu_{\\mathrm m}^{2} + 2 C_{3} \\nu_{\\mathrm i} \\nu_{\\mathrm m} + 3 C_{3} \\nu_{\\mathrm m}^{2} - 3 C_{3} \\nu_{\\mathrm m}$"
      ],
      "text/plain": [
       "                                       2                                      \n",
       "- 2⋅A₋₁⋅\\nu_{\\mathrm i}⋅\\nu_{\\mathrm m}  + A₋₁⋅\\nu_{\\mathrm i}⋅\\nu_{\\mathrm m}\n",
       "\n",
       "                                        2                                     \n",
       " + 2⋅A₋₃⋅\\nu_{\\mathrm i}⋅\\nu_{\\mathrm m}  - 2⋅A₋₃⋅\\nu_{\\mathrm i}⋅\\nu_{\\mathrm\n",
       "\n",
       "                                          2                                   \n",
       " m} - 2⋅A₁⋅\\nu_{\\mathrm i}⋅\\nu_{\\mathrm m}  + 2⋅A₁⋅\\nu_{\\mathrm i}⋅\\nu_{\\mathr\n",
       "\n",
       "                                           2                                  \n",
       "m m} + 2⋅A₃⋅\\nu_{\\mathrm i}⋅\\nu_{\\mathrm m}  - 5⋅A₃⋅\\nu_{\\mathrm i}⋅\\nu_{\\math\n",
       "\n",
       "                                                                   2          \n",
       "rm m} + 3⋅A₃⋅\\nu_{\\mathrm i} + 2⋅C₁⋅\\nu_{\\mathrm i}⋅\\nu_{\\mathrm m}  - 2⋅C₁⋅\\n\n",
       "\n",
       "                                                                    2         \n",
       "u_{\\mathrm i}⋅\\nu_{\\mathrm m} - 2⋅C₃⋅\\nu_{\\mathrm i}⋅\\nu_{\\mathrm m}  + 2⋅C₃⋅\\\n",
       "\n",
       "                                                     2                       \n",
       "nu_{\\mathrm i}⋅\\nu_{\\mathrm m} + 3⋅C₃⋅\\nu_{\\mathrm m}  - 3⋅C₃⋅\\nu_{\\mathrm m}"
      ]
     },
     "execution_count": 50,
     "metadata": {},
     "output_type": "execute_result"
    }
   ],
   "source": [
    "eq8"
   ]
  },
  {
   "cell_type": "markdown",
   "metadata": {},
   "source": [
    "Finally, the traction is continuous"
   ]
  },
  {
   "cell_type": "code",
   "execution_count": 51,
   "metadata": {},
   "outputs": [],
   "source": [
    "eq9, eq10 = (σ_m-σ_i).col(0).subs(ρ, 1).applyfunc(sympy.factor)\n",
    "eq9 *= a*(1+ν_i)*(1-ν_m**2)/E_m/sympy.sin(2*θ)\n",
    "eq10 *= 2*a*ν_i*ν_m*(1+ν_i)*(1-ν_m**2)/E_m/sympy.cos(2*θ)\n",
    "eq9 = eq9.factor()\n",
    "eq10 = eq10.factor()"
   ]
  },
  {
   "cell_type": "code",
   "execution_count": 52,
   "metadata": {},
   "outputs": [
    {
     "data": {
      "text/latex": [
       "$\\displaystyle - A_{-1} \\nu_{\\mathrm i} - A_{-1} + 3 A_{-3} \\nu_{\\mathrm i} \\nu_{\\mathrm m} - 3 A_{-3} \\nu_{\\mathrm i} + 3 A_{-3} \\nu_{\\mathrm m} - 3 A_{-3} - A_{1} \\nu_{\\mathrm i} \\nu_{\\mathrm m} + A_{1} \\nu_{\\mathrm i} - A_{1} \\nu_{\\mathrm m} + A_{1} + C_{1} \\nu_{\\mathrm m}^{2} \\chi - C_{1} \\chi$"
      ],
      "text/plain": [
       "                                                                              \n",
       "-A₋₁⋅\\nu_{\\mathrm i} - A₋₁ + 3⋅A₋₃⋅\\nu_{\\mathrm i}⋅\\nu_{\\mathrm m} - 3⋅A₋₃⋅\\nu\n",
       "\n",
       "                                                                              \n",
       "_{\\mathrm i} + 3⋅A₋₃⋅\\nu_{\\mathrm m} - 3⋅A₋₃ - A₁⋅\\nu_{\\mathrm i}⋅\\nu_{\\mathrm\n",
       "\n",
       "                                                                       2      \n",
       " m} + A₁⋅\\nu_{\\mathrm i} - A₁⋅\\nu_{\\mathrm m} + A₁ + C₁⋅\\nu_{\\mathrm m} ⋅χ - C\n",
       "\n",
       "   \n",
       "₁⋅χ"
      ]
     },
     "execution_count": 52,
     "metadata": {},
     "output_type": "execute_result"
    }
   ],
   "source": [
    "eq9"
   ]
  },
  {
   "cell_type": "code",
   "execution_count": 53,
   "metadata": {},
   "outputs": [
    {
     "data": {
      "text/latex": [
       "$\\displaystyle A_{-1} \\nu_{\\mathrm i}^{2} \\nu_{\\mathrm m} + A_{-1} \\nu_{\\mathrm i} \\nu_{\\mathrm m} - 6 A_{-3} \\nu_{\\mathrm i}^{2} \\nu_{\\mathrm m}^{2} + 6 A_{-3} \\nu_{\\mathrm i}^{2} \\nu_{\\mathrm m} - 6 A_{-3} \\nu_{\\mathrm i} \\nu_{\\mathrm m}^{2} + 6 A_{-3} \\nu_{\\mathrm i} \\nu_{\\mathrm m} - 2 A_{1} \\nu_{\\mathrm i}^{2} \\nu_{\\mathrm m}^{2} + 2 A_{1} \\nu_{\\mathrm i}^{2} \\nu_{\\mathrm m} - 2 A_{1} \\nu_{\\mathrm i} \\nu_{\\mathrm m}^{2} + 2 A_{1} \\nu_{\\mathrm i} \\nu_{\\mathrm m} - 3 A_{3} \\nu_{\\mathrm i}^{2} \\nu_{\\mathrm m} + 3 A_{3} \\nu_{\\mathrm i}^{2} - 3 A_{3} \\nu_{\\mathrm i} \\nu_{\\mathrm m} + 3 A_{3} \\nu_{\\mathrm i} + 2 C_{1} \\nu_{\\mathrm i} \\nu_{\\mathrm m}^{3} \\chi - 2 C_{1} \\nu_{\\mathrm i} \\nu_{\\mathrm m} \\chi + 3 C_{3} \\nu_{\\mathrm m}^{3} \\chi - 3 C_{3} \\nu_{\\mathrm m} \\chi$"
      ],
      "text/plain": [
       "                   2                                                          \n",
       "A₋₁⋅\\nu_{\\mathrm i} ⋅\\nu_{\\mathrm m} + A₋₁⋅\\nu_{\\mathrm i}⋅\\nu_{\\mathrm m} - 6\n",
       "\n",
       "                    2                2                        2               \n",
       "⋅A₋₃⋅\\nu_{\\mathrm i} ⋅\\nu_{\\mathrm m}  + 6⋅A₋₃⋅\\nu_{\\mathrm i} ⋅\\nu_{\\mathrm m\n",
       "\n",
       "                                         2                                    \n",
       "} - 6⋅A₋₃⋅\\nu_{\\mathrm i}⋅\\nu_{\\mathrm m}  + 6⋅A₋₃⋅\\nu_{\\mathrm i}⋅\\nu_{\\mathr\n",
       "\n",
       "                           2                2                       2         \n",
       "m m} - 2⋅A₁⋅\\nu_{\\mathrm i} ⋅\\nu_{\\mathrm m}  + 2⋅A₁⋅\\nu_{\\mathrm i} ⋅\\nu_{\\ma\n",
       "\n",
       "                                              2                               \n",
       "thrm m} - 2⋅A₁⋅\\nu_{\\mathrm i}⋅\\nu_{\\mathrm m}  + 2⋅A₁⋅\\nu_{\\mathrm i}⋅\\nu_{\\m\n",
       "\n",
       "                               2                                       2      \n",
       "athrm m} - 3⋅A₃⋅\\nu_{\\mathrm i} ⋅\\nu_{\\mathrm m} + 3⋅A₃⋅\\nu_{\\mathrm i}  - 3⋅A\n",
       "\n",
       "                                                                              \n",
       "₃⋅\\nu_{\\mathrm i}⋅\\nu_{\\mathrm m} + 3⋅A₃⋅\\nu_{\\mathrm i} + 2⋅C₁⋅\\nu_{\\mathrm i\n",
       "\n",
       "                 3                                                            \n",
       "}⋅\\nu_{\\mathrm m} ⋅χ - 2⋅C₁⋅\\nu_{\\mathrm i}⋅\\nu_{\\mathrm m}⋅χ + 3⋅C₃⋅\\nu_{\\mat\n",
       "\n",
       "      3                           \n",
       "hrm m} ⋅χ - 3⋅C₃⋅\\nu_{\\mathrm m}⋅χ"
      ]
     },
     "execution_count": 53,
     "metadata": {},
     "output_type": "execute_result"
    }
   ],
   "source": [
    "eq10"
   ]
  },
  {
   "cell_type": "markdown",
   "metadata": {},
   "source": [
    "## Computing the solution"
   ]
  },
  {
   "cell_type": "markdown",
   "metadata": {},
   "source": [
    "We are left with a system of 6 equations for 6 unknowns!"
   ]
  },
  {
   "cell_type": "code",
   "execution_count": 54,
   "metadata": {},
   "outputs": [
    {
     "data": {
      "text/latex": [
       "$\\displaystyle \\left[ A_{-3}, \\  A_{-1}, \\  A_{1}, \\  A_{3}, \\  C_{1}, \\  C_{3}\\right]$"
      ],
      "text/plain": [
       "[A₋₃, A₋₁, A₁, A₃, C₁, C₃]"
      ]
     },
     "execution_count": 54,
     "metadata": {},
     "output_type": "execute_result"
    }
   ],
   "source": [
    "unknowns"
   ]
  },
  {
   "cell_type": "code",
   "execution_count": 55,
   "metadata": {},
   "outputs": [],
   "source": [
    "lhs, rhs = sympy.linear_eq_to_matrix([eq5, eq6, eq7, eq8, eq9, eq10], unknowns)\n",
    "lhs = lhs.applyfunc(sympy.factor)\n",
    "rhs = rhs.applyfunc(sympy.factor)"
   ]
  },
  {
   "cell_type": "code",
   "execution_count": 56,
   "metadata": {},
   "outputs": [
    {
     "data": {
      "text/latex": [
       "$\\displaystyle \\left[\\begin{matrix}2 & 2 \\gamma^{2} & 2 \\gamma^{4} & 2 \\gamma^{6} & 0 & 0\\\\2 \\nu_{\\mathrm m} \\left(\\nu_{\\mathrm m} - 1\\right) & - \\nu_{\\mathrm m} \\gamma^{2} \\left(2 \\nu_{\\mathrm m} - 1\\right) & - 2 \\nu_{\\mathrm m} \\gamma^{4} \\left(\\nu_{\\mathrm m} - 1\\right) & \\gamma^{6} \\left(\\nu_{\\mathrm m} - 1\\right) \\left(2 \\nu_{\\mathrm m} - 3\\right) & 0 & 0\\\\1 & 1 & 1 & 1 & -1 & -1\\\\2 \\nu_{\\mathrm i} \\nu_{\\mathrm m} \\left(\\nu_{\\mathrm m} - 1\\right) & - \\nu_{\\mathrm i} \\nu_{\\mathrm m} \\left(2 \\nu_{\\mathrm m} - 1\\right) & - 2 \\nu_{\\mathrm i} \\nu_{\\mathrm m} \\left(\\nu_{\\mathrm m} - 1\\right) & \\nu_{\\mathrm i} \\left(\\nu_{\\mathrm m} - 1\\right) \\left(2 \\nu_{\\mathrm m} - 3\\right) & 2 \\nu_{\\mathrm i} \\nu_{\\mathrm m} \\left(\\nu_{\\mathrm m} - 1\\right) & - \\nu_{\\mathrm m} \\left(2 \\nu_{\\mathrm i} - 3\\right) \\left(\\nu_{\\mathrm m} - 1\\right)\\\\3 \\left(\\nu_{\\mathrm i} + 1\\right) \\left(\\nu_{\\mathrm m} - 1\\right) & - \\nu_{\\mathrm i} - 1 & - \\left(\\nu_{\\mathrm i} + 1\\right) \\left(\\nu_{\\mathrm m} - 1\\right) & 0 & \\chi \\left(\\nu_{\\mathrm m} - 1\\right) \\left(\\nu_{\\mathrm m} + 1\\right) & 0\\\\- 6 \\nu_{\\mathrm i} \\nu_{\\mathrm m} \\left(\\nu_{\\mathrm i} + 1\\right) \\left(\\nu_{\\mathrm m} - 1\\right) & \\nu_{\\mathrm i} \\nu_{\\mathrm m} \\left(\\nu_{\\mathrm i} + 1\\right) & - 2 \\nu_{\\mathrm i} \\nu_{\\mathrm m} \\left(\\nu_{\\mathrm i} + 1\\right) \\left(\\nu_{\\mathrm m} - 1\\right) & - 3 \\nu_{\\mathrm i} \\left(\\nu_{\\mathrm i} + 1\\right) \\left(\\nu_{\\mathrm m} - 1\\right) & 2 \\nu_{\\mathrm i} \\nu_{\\mathrm m} \\chi \\left(\\nu_{\\mathrm m} - 1\\right) \\left(\\nu_{\\mathrm m} + 1\\right) & 3 \\nu_{\\mathrm m} \\chi \\left(\\nu_{\\mathrm m} - 1\\right) \\left(\\nu_{\\mathrm m} + 1\\right)\\end{matrix}\\right]$"
      ],
      "text/plain": [
       "⎡                                                                             \n",
       "⎢                                      2                                      \n",
       "⎢                                                                             \n",
       "⎢                                                                             \n",
       "⎢                   2⋅\\nu_{\\mathrm m}⋅(\\nu_{\\mathrm m} - 1)                   \n",
       "⎢                                                                             \n",
       "⎢                                      1                                      \n",
       "⎢                                                                             \n",
       "⎢           2⋅\\nu_{\\mathrm i}⋅\\nu_{\\mathrm m}⋅(\\nu_{\\mathrm m} - 1)           \n",
       "⎢                                                                             \n",
       "⎢                3⋅(\\nu_{\\mathrm i} + 1)⋅(\\nu_{\\mathrm m} - 1)                \n",
       "⎢                                                                             \n",
       "⎣-6⋅\\nu_{\\mathrm i}⋅\\nu_{\\mathrm m}⋅(\\nu_{\\mathrm i} + 1)⋅(\\nu_{\\mathrm m} - 1\n",
       "\n",
       "                                2                                             \n",
       "                             2⋅γ                                              \n",
       "                                                                              \n",
       "                           2                                                  \n",
       "         -\\nu_{\\mathrm m}⋅γ ⋅(2⋅\\nu_{\\mathrm m} - 1)                          \n",
       "                                                                              \n",
       "                              1                                               \n",
       "                                                                              \n",
       "   -\\nu_{\\mathrm i}⋅\\nu_{\\mathrm m}⋅(2⋅\\nu_{\\mathrm m} - 1)             -2⋅\\nu\n",
       "                                                                              \n",
       "                     -\\nu_{\\mathrm i} - 1                                     \n",
       "                                                                              \n",
       ")   \\nu_{\\mathrm i}⋅\\nu_{\\mathrm m}⋅(\\nu_{\\mathrm i} + 1)    -2⋅\\nu_{\\mathrm i\n",
       "\n",
       "                       4                                                      \n",
       "                    2⋅γ                                                       \n",
       "                                                                              \n",
       "                    4                                                  6      \n",
       "-2⋅\\nu_{\\mathrm m}⋅γ ⋅(\\nu_{\\mathrm m} - 1)                           γ ⋅(\\nu_\n",
       "                                                                              \n",
       "                     1                                                        \n",
       "                                                                              \n",
       "_{\\mathrm i}⋅\\nu_{\\mathrm m}⋅(\\nu_{\\mathrm m} - 1)             \\nu_{\\mathrm i}\n",
       "                                                                              \n",
       "-(\\nu_{\\mathrm i} + 1)⋅(\\nu_{\\mathrm m} - 1)                                  \n",
       "                                                                              \n",
       "}⋅\\nu_{\\mathrm m}⋅(\\nu_{\\mathrm i} + 1)⋅(\\nu_{\\mathrm m} - 1)  -3⋅\\nu_{\\mathrm\n",
       "\n",
       "                 6                                                            \n",
       "              2⋅γ                                                             \n",
       "                                                                              \n",
       "                                                                              \n",
       "{\\mathrm m} - 1)⋅(2⋅\\nu_{\\mathrm m} - 3)                                      \n",
       "                                                                              \n",
       "               1                                                              \n",
       "                                                                              \n",
       "⋅(\\nu_{\\mathrm m} - 1)⋅(2⋅\\nu_{\\mathrm m} - 3)               2⋅\\nu_{\\mathrm i}\n",
       "                                                                              \n",
       "               0                                                  χ⋅(\\nu_{\\mat\n",
       "                                                                              \n",
       " i}⋅(\\nu_{\\mathrm i} + 1)⋅(\\nu_{\\mathrm m} - 1)  2⋅\\nu_{\\mathrm i}⋅\\nu_{\\mathr\n",
       "\n",
       "                                                                              \n",
       "          0                                                                   \n",
       "                                                                              \n",
       "                                                                              \n",
       "          0                                                                   \n",
       "                                                                              \n",
       "         -1                                                                   \n",
       "                                                                              \n",
       "⋅\\nu_{\\mathrm m}⋅(\\nu_{\\mathrm m} - 1)              -\\nu_{\\mathrm m}⋅(2⋅\\nu_{\\\n",
       "                                                                              \n",
       "hrm m} - 1)⋅(\\nu_{\\mathrm m} + 1)                                             \n",
       "                                                                              \n",
       "m m}⋅χ⋅(\\nu_{\\mathrm m} - 1)⋅(\\nu_{\\mathrm m} + 1)  3⋅\\nu_{\\mathrm m}⋅χ⋅(\\nu_{\n",
       "\n",
       "                                     ⎤\n",
       "     0                               ⎥\n",
       "                                     ⎥\n",
       "                                     ⎥\n",
       "     0                               ⎥\n",
       "                                     ⎥\n",
       "    -1                               ⎥\n",
       "                                     ⎥\n",
       "mathrm i} - 3)⋅(\\nu_{\\mathrm m} - 1) ⎥\n",
       "                                     ⎥\n",
       "     0                               ⎥\n",
       "                                     ⎥\n",
       "\\mathrm m} - 1)⋅(\\nu_{\\mathrm m} + 1)⎦"
      ]
     },
     "execution_count": 56,
     "metadata": {},
     "output_type": "execute_result"
    }
   ],
   "source": [
    "lhs"
   ]
  },
  {
   "cell_type": "code",
   "execution_count": 57,
   "metadata": {},
   "outputs": [
    {
     "data": {
      "text/latex": [
       "$\\displaystyle \\left[\\begin{matrix}2 a \\gamma^{4}\\\\- 2 \\nu_{\\mathrm m} a \\gamma^{4} \\left(\\nu_{\\mathrm m} - 1\\right)\\\\0\\\\0\\\\0\\\\0\\end{matrix}\\right]$"
      ],
      "text/plain": [
       "⎡                        4                    ⎤\n",
       "⎢                   2⋅a⋅γ                     ⎥\n",
       "⎢                                             ⎥\n",
       "⎢                      4                      ⎥\n",
       "⎢-2⋅\\nu_{\\mathrm m}⋅a⋅γ ⋅(\\nu_{\\mathrm m} - 1)⎥\n",
       "⎢                                             ⎥\n",
       "⎢                      0                      ⎥\n",
       "⎢                                             ⎥\n",
       "⎢                      0                      ⎥\n",
       "⎢                                             ⎥\n",
       "⎢                      0                      ⎥\n",
       "⎢                                             ⎥\n",
       "⎣                      0                      ⎦"
      ]
     },
     "execution_count": 57,
     "metadata": {},
     "output_type": "execute_result"
    }
   ],
   "source": [
    "rhs"
   ]
  },
  {
   "cell_type": "markdown",
   "metadata": {},
   "source": [
    "We will not compute the analytical solution to the above problem. Rather, we will keep it in a matrix form, and solve the underlying numerical system numerically on demand.\n",
    "\n",
    "To do so, we use the code generation capabilities of SymPy."
   ]
  },
  {
   "cell_type": "code",
   "execution_count": 58,
   "metadata": {},
   "outputs": [],
   "source": [
    "printer = sympy.printing.lambdarepr.NumPyPrinter()\n",
    "substitutions = {ν_i: sympy.Symbol(\"nu_i\"), ν_m: sympy.Symbol(\"nu_m\")}"
   ]
  },
  {
   "cell_type": "code",
   "execution_count": 59,
   "metadata": {},
   "outputs": [
    {
     "data": {
      "text/plain": [
       "'numpy.array([[2, 2*gamma**2, 2*gamma**4, 2*gamma**6, 0, 0], [2*nu_m*(nu_m - 1), -gamma**2*nu_m*(2*nu_m - 1), -2*gamma**4*nu_m*(nu_m - 1), gamma**6*(nu_m - 1)*(2*nu_m - 3), 0, 0], [1, 1, 1, 1, -1, -1], [2*nu_i*nu_m*(nu_m - 1), -nu_i*nu_m*(2*nu_m - 1), -2*nu_i*nu_m*(nu_m - 1), nu_i*(nu_m - 1)*(2*nu_m - 3), 2*nu_i*nu_m*(nu_m - 1), -nu_m*(2*nu_i - 3)*(nu_m - 1)], [3*(nu_i + 1)*(nu_m - 1), -nu_i - 1, -(nu_i + 1)*(nu_m - 1), 0, chi*(nu_m - 1)*(nu_m + 1), 0], [-6*nu_i*nu_m*(nu_i + 1)*(nu_m - 1), nu_i*nu_m*(nu_i + 1), -2*nu_i*nu_m*(nu_i + 1)*(nu_m - 1), -3*nu_i*(nu_i + 1)*(nu_m - 1), 2*chi*nu_i*nu_m*(nu_m - 1)*(nu_m + 1), 3*chi*nu_m*(nu_m - 1)*(nu_m + 1)]])'"
      ]
     },
     "execution_count": 59,
     "metadata": {},
     "output_type": "execute_result"
    }
   ],
   "source": [
    "printer.doprint(lhs.subs(substitutions))"
   ]
  },
  {
   "cell_type": "code",
   "execution_count": 60,
   "metadata": {},
   "outputs": [
    {
     "data": {
      "text/plain": [
       "'numpy.array([[2*a*gamma**4, -2*a*gamma**4*nu_m*(nu_m - 1), 0, 0, 0, 0]])'"
      ]
     },
     "execution_count": 60,
     "metadata": {},
     "output_type": "execute_result"
    }
   ],
   "source": [
    "printer.doprint(rhs.subs(substitutions).T)"
   ]
  },
  {
   "cell_type": "code",
   "execution_count": null,
   "metadata": {},
   "outputs": [],
   "source": []
  },
  {
   "cell_type": "code",
   "execution_count": null,
   "metadata": {},
   "outputs": [],
   "source": []
  },
  {
   "cell_type": "code",
   "execution_count": null,
   "metadata": {},
   "outputs": [],
   "source": []
  },
  {
   "cell_type": "code",
   "execution_count": null,
   "metadata": {},
   "outputs": [],
   "source": []
  },
  {
   "cell_type": "code",
   "execution_count": null,
   "metadata": {},
   "outputs": [],
   "source": []
  },
  {
   "cell_type": "code",
   "execution_count": null,
   "metadata": {},
   "outputs": [],
   "source": []
  },
  {
   "cell_type": "code",
   "execution_count": null,
   "metadata": {},
   "outputs": [],
   "source": []
  },
  {
   "cell_type": "code",
   "execution_count": null,
   "metadata": {},
   "outputs": [],
   "source": []
  },
  {
   "cell_type": "code",
   "execution_count": null,
   "metadata": {},
   "outputs": [],
   "source": []
  },
  {
   "cell_type": "code",
   "execution_count": null,
   "metadata": {},
   "outputs": [],
   "source": []
  },
  {
   "cell_type": "code",
   "execution_count": null,
   "metadata": {},
   "outputs": [],
   "source": []
  },
  {
   "cell_type": "code",
   "execution_count": null,
   "metadata": {},
   "outputs": [],
   "source": []
  }
 ],
 "metadata": {
  "kernelspec": {
   "display_name": "Python 3",
   "language": "python",
   "name": "python3"
  },
  "language_info": {
   "codemirror_mode": {
    "name": "ipython",
    "version": 3
   },
   "file_extension": ".py",
   "mimetype": "text/x-python",
   "name": "python",
   "nbconvert_exporter": "python",
   "pygments_lexer": "ipython3",
   "version": "3.7.3"
  }
 },
 "nbformat": 4,
 "nbformat_minor": 4
}
