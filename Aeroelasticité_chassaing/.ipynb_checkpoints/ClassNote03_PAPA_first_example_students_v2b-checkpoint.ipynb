{
 "cells": [
  {
   "cell_type": "markdown",
   "metadata": {},
   "source": [
    "-------\n",
    "_Faculté des Sciences de Sorbonne Université & Arts et Métiers ParisTech: Master 2 SPI - Model and numerical simulation in aeroeslasticity_ (2020-2021)\n",
    "\n",
    "## Class Note 3: First Solution of the PAPA flutter problem ##\n",
    "\n",
    "**PURPOSE** : We compute the critical flutter speed of the PAPA problem using the P method with steady aerodynamics.\n",
    "\n",
    "\n",
    "------------------------\n",
    "\n",
    "_Jean-Camille Chassaing, Sorbonne Université  (10. Nov. 2019, v2b)_\n",
    "\n",
    "http://www.dalembert.upmc.fr/home/chassaing\n",
    "\n",
    "------------------------\n",
    "\n",
    "\n"
   ]
  },
  {
   "cell_type": "markdown",
   "metadata": {},
   "source": [
    "Import useful Python modules"
   ]
  },
  {
   "cell_type": "code",
   "execution_count": 1,
   "metadata": {},
   "outputs": [],
   "source": [
    "from __future__ import division, print_function\n",
    "import unittest\n",
    "import numpy as np\n",
    "import pylab as plt\n",
    "#%matplotlib inline  \n",
    "%matplotlib notebook"
   ]
  },
  {
   "cell_type": "markdown",
   "metadata": {},
   "source": [
    "**1. AEROELASTIC CONFIGURATION** \n",
    "\n",
    "Taken from [1] (fig 4.3, p. 123) \n"
   ]
  },
  {
   "cell_type": "code",
   "execution_count": 2,
   "metadata": {},
   "outputs": [],
   "source": [
    "def load_config_PAPA_Hodges_p123():\n",
    "    \"\"\" ... \"\"\"  \n",
    "    r_a   = np.sqrt(6/25)  # radius of gyration\n",
    "    mu    = 20.0           # mass ratio\n",
    "    a_h   = -1./5.         # dimensionless position of the elastic center from mid-chord\n",
    "    x_a   = -1./10-a_h     # static unbalance \n",
    "    omg_za=  2./5.         # ratio of uncoupled natural frequencies in bending to torsional mode.A\n",
    "    \n",
    "    print(\"Loading PAPA dimensionless aeroelastic parameters of Hodges, p. 123 [1]\")\n",
    "    print(\"=======================================================================\")\n",
    "    print (\"Mass ratio                     : mu     = {0:.2f}\".format(mu))\n",
    "    print (\"Radius of gyration             : r_a    = {0:.2f}\".format(r_a))\n",
    "    print (\"Position of the elastic center : a_h    = {0:.2f}\".format(a_h))\n",
    "    print (\"Static unbalance               : x_a    = {0:.2f}\".format(x_a))\n",
    "    print (\"Ratio of uncoupled natural freq: omg_za = {0:.2f}\".format(omg_za))\n",
    "    return r_a, mu, a_h, x_a, omg_za"
   ]
  },
  {
   "cell_type": "markdown",
   "metadata": {},
   "source": [
    "Load the studied configuration"
   ]
  },
  {
   "cell_type": "code",
   "execution_count": 5,
   "metadata": {},
   "outputs": [
    {
     "name": "stdout",
     "output_type": "stream",
     "text": [
      "Loading PAPA dimensionless aeroelastic parameters of Hodges, p. 123 [1]\n",
      "=======================================================================\n",
      "Mass ratio                     : mu     = 20.00\n",
      "Radius of gyration             : r_a    = 0.49\n",
      "Position of the elastic center : a_h    = -0.20\n",
      "Static unbalance               : x_a    = 0.10\n",
      "Ratio of uncoupled natural freq: omg_za = 0.40\n"
     ]
    }
   ],
   "source": [
    "# call here function: the load_config_PAPA_Hodges_p123\n",
    "\n",
    "r_a, mu, a_h, x_a, omg_za = load_config_PAPA_Hodges_p123()\n"
   ]
  },
  {
   "cell_type": "markdown",
   "metadata": {},
   "source": [
    "_Set Auxiliatory variables due to the present implementation (jcc) :_"
   ]
  },
  {
   "cell_type": "code",
   "execution_count": 6,
   "metadata": {},
   "outputs": [],
   "source": [
    "#-- auxiliatory variables due to the present implementation (jcc)\n",
    "omg_a = 1.             # In order to allow a direct comparison with dimensionless computation in ref [1],\n",
    "                       # set the natural freq. in pitch to the unit value to 1 Hz.\n",
    "omg_z = omg_za*omg_a   # Plunging natural frequency [Hz]"
   ]
  },
  {
   "cell_type": "markdown",
   "metadata": {},
   "source": [
    "#### 2. Formulation of the  PAPA Aeroelastic system ####\n",
    "\n",
    "**2.1 EQUATION OF MOTION**\n",
    "\n",
    "\n",
    "According to the application of the Lagrange equations to the PAPA problem (see class note 2), the governing equations of motion are :\n",
    "\n",
    "\\begin{equation}\n",
    "\\left\\{ \\begin{array}{l}\n",
    "\\ddot{\\xi}(t)+x_{\\alpha}\\ddot{\\alpha}(t)+\\omega_h^2 \\xi(t)=-\\frac{L(t)}{mb}\\\\\n",
    "x_{\\alpha}\\ddot{\\xi}(t)+r_\\alpha^2\\ddot{\\alpha}(t)+\\omega_{\\alpha}^2r_\\alpha^2\\alpha(t)=\\underbrace{\\frac{M_{A}(t)}{mb^2}\n",
    "+\\left(\\frac{1}{2}+a_h\\right)\\frac{L(t)}{mb}}_{M_E}\\end{array}\\right. \n",
    "\\qquad (1)\n",
    "\\end{equation}\n",
    "\n",
    "where $\\xi = h/b$ is the dimensionless displacement in plunge.\n",
    "Equation (1) can be written in matrix form : \n",
    "$  \\mathbf{M_S} \\ddot{\\mathbf{q}} + \\mathbf{K_S} \\mathbf{q} = \\mathbf{F_{aero}({\\rm\\it V},\\ddot{\\mathbf{q}},\\dot{\\mathbf{q}},\\mathbf{q})}  \\qquad (2)\n",
    "$\n",
    "\n",
    "with $\\mathbf{q}=[\\xi,\\alpha]^T$ the **generalized coordinates**. \n",
    "Note that an explicit relation between the **generalized aerodynamic forces**\n",
    "$\\mathbf{F_{aero}}$ and the generalized coordinates and its derivatives is required to close the governing equation of the motion."
   ]
  },
  {
   "cell_type": "markdown",
   "metadata": {},
   "source": [
    "**2.2 STRUCTURAL OPERATOR**\n",
    "\n",
    "The identification of the structural mass and stiffness matrices in (1) gives\n",
    "\n",
    "$\\mathbf{M_S} =\n",
    " \\left[\n",
    " \\begin{matrix}\n",
    "         1 & x_\\alpha \\\\\n",
    "         x_\\alpha & r_\\alpha^2 \\\\\n",
    "       \\end{matrix}\n",
    "      \\right] \n",
    "       \\qquad {\\text{and}} \\qquad\n",
    "   \\mathbf{K_S} =   \n",
    "         \\left[\n",
    "   \\begin{matrix}\n",
    "           \\omega_h^2 & 0 \\\\\n",
    "           0 & r_\\alpha^2 \\omega_\\alpha^2\n",
    "         \\end{matrix}\n",
    "               \\right] \n",
    "         \\qquad (3)\n",
    "$\n",
    "\n",
    "We remark that no structural damping is considered in the present aeroelastic model."
   ]
  },
  {
   "cell_type": "code",
   "execution_count": 5,
   "metadata": {},
   "outputs": [],
   "source": [
    "def build_MK_struct(x_a, r_a, omg_za, omg_a):\n",
    "    \"\"\"This function returns ...\"\"\"   \n",
    "#    mass_matrix_struct  = ...\n",
    "#    stiff_matrix_struct = ...\n",
    "    return mass_matrix_struct, stiff_matrix_struct"
   ]
  },
  {
   "cell_type": "markdown",
   "metadata": {},
   "source": [
    "**2.3 AERODYNAMIC OPERATOR FROM STEADY FLOW THEORY**\n",
    "\n",
    "In this problem, explicit expressions for the lift $L$ and the aerodynamic moment at the aerodynamic center $A$ will be used for the case of steady flow theory :\n",
    "\n",
    "$\\left\\{\\begin{array}{l} L = 2\\pi\\rho_\\infty b U_\\infty^2 \\alpha \\\\ M_{A} = 0 \\end{array}\\right. \\qquad (4) $\n",
    "\n",
    "Consequently, the generalized aerodynamic forces $\\mathbf{F_{aero}}$ can be expressed using non-dimensional aero-mecahnical parameters as  \n",
    "\n",
    "\\begin{equation} \\mathbf{F_{aero}}(\\mathbf{q}) =\n",
    "  \\begin{bmatrix}  \\frac{-L}{mb} \\\\ \\frac{M_E}{mb^2} \\end{bmatrix}  =\n",
    "  \\underbrace{  \\begin{bmatrix}    ... & ... \\\\  ... & ... \\end{bmatrix}\n",
    "  \\begin{bmatrix}  \\xi \\\\\n",
    "  \\alpha  \\end{bmatrix}}_{\\text{Aerodynamic ``stiffness'' matrix $\\mathbf{K}_a$}}  \\qquad (5)\n",
    "\\end{equation}\n",
    "\n",
    "where  no damping nor inertial aerodynamic effects are represented by this aerodynamic model. "
   ]
  },
  {
   "cell_type": "code",
   "execution_count": 7,
   "metadata": {},
   "outputs": [],
   "source": [
    "def stiffness_aero_steady(V, mu, omg_a, a_h):\n",
    "    \"\"\"This function returns the global stiffness aeroelastic matrix for a given dimensionless airspeed assuming steady flow aerodynamics\"\"\"  \n",
    "#    stiff_matrix_aero = ...\n",
    "    return stiff_matrix_aero"
   ]
  },
  {
   "cell_type": "markdown",
   "metadata": {},
   "source": [
    "#### 3. FLUTTER SOLUTION ####\n",
    "\n",
    "\n",
    "**3.1 COMPUTATION OF THE FLUTTER DETERMINANT $\\Delta f^{PAPA}_{p-steady}$**\n",
    "\n",
    "According to the **$p$-method**, we substitute the assumed form of the generalized coordinates $\\mathbf q = \\mathbf{\\bar q} ~{\\mathrm exp}(pt)$ in the equations of motion (2,5). The corresponding linear system reads\n",
    "\n",
    "$\n",
    "\\underbrace{\n",
    "\\left( \\qquad ... \\qquad     \\right)}_{\\mathbf{G}(p)\n",
    "}\n",
    " \\mathbf{\\bar q} = \\mathbf{0}   \\qquad (6)  $\n",
    "\n",
    " We then introduce  the **flutter determinant** $\\Delta f^{PAPA}_{p-steady} = \\text{det} (\\mathbf{G}(p))$.\n",
    "\n",
    "Explicit computation of $\\Delta_f$ for the case of the 2DOF PAPA aeroelastic system gives the following fourth order polynomial in $p$:\n",
    "\n",
    "$\n",
    "\\Delta f^{PAPA}_{p-steady}= ...  \\qquad (7) $.\n",
    "\n",
    "**Stabilty Analysis :**\n",
    "\n",
    "* In order to obtain **non-trivial solutions** of the  linear system (6), the flutter dterminant of matrix must be equal to **zero**.\n",
    "\n",
    "$$\n",
    "\\Delta f^{PAPA}_{p-steady}= 0  \\qquad (8) $$.\n",
    "\n",
    "* Equation (7) can then be solved analytically (or numerically) for roots $p$. \n",
    "\n",
    "* The aeroelastic behavior of the PAPA system will be governed by the mathematical nature of the $k$th solutions $p_k$.\n",
    "\n",
    "* Writing : $$p_k = \\Gamma_k + i \\Omega_k \\qquad (9) $$ the sign of modal damping indicates the stable or unstable behavior of the $k$th aeroelastic mode (k=1,..4). The corresponding modal frequency is  $\\Omega_k$.\n"
   ]
  },
  {
   "cell_type": "code",
   "execution_count": 1,
   "metadata": {},
   "outputs": [],
   "source": [
    "def solve_PAPA_p_method_steady (mass_matrix, stiff_matrix):\n",
    "    \"\"\"solve_PAPA_p_method_steady by finding the roots of the caracteristic polynomial (eq. 7)\"\"\"  \n",
    "    # Compute the coefficients of the polynomial Delta_f= Ap^4 + Bp^2 + C, resulting from setting the flutter determinant to zero\n",
    "    #\n",
    "    # REMARK: These coefficient can be directly expressed using the coefficients of the Mass and Stiffness matrices\n",
    "#    A = ...\n",
    "#    B = ...\n",
    "#    C = ...\n",
    "    \n",
    "    # find the roots of the fourth order polynomial in p (Delta_f= Ap^4 + Bp^2 + C^2)\n",
    "#    sol     = ...\n",
    "    #print(sol)\n",
    "#    damping = ...\n",
    "#    freq    = ...\n",
    "    #print(damping)\n",
    "    return damping,freq"
   ]
  },
  {
   "cell_type": "markdown",
   "metadata": {},
   "source": [
    "**3.2 AEROELASTIC STABILITY OF THE SYSTEM**\n",
    "\n",
    "Now we can play with various values of the airspeed in order to see its effects on the aeroelastic stability of the system and the corresponding eigenfrequencies and modal damping."
   ]
  },
  {
   "cell_type": "code",
   "execution_count": 12,
   "metadata": {},
   "outputs": [
    {
     "name": "stdout",
     "output_type": "stream",
     "text": [
      "Speed Index   : V = 1.75\n"
     ]
    }
   ],
   "source": [
    "# set dimensionless airspeed (between 0 and 3)\n",
    "V  = 1.75   \n",
    "eps= 1.e-14\n",
    "\n",
    "# compute the corresponding aeroelastic stiffness matrix\n",
    "# [type code here...]\n",
    "\n",
    "# Solve the flutter determinant\n",
    "# [type code here...]\n",
    "\n",
    "print(\"Speed Index   : V = {0:.2f}\".format(V))\n",
    "#print(\"Damping modes :\",damping)\n",
    "#print(\"Frequencies   :\",freq)\n",
    "\n",
    "#if [type code here...]\n",
    "#    print(\"\\nWARNING: The aeroelastic system is UNSTABLE.\")\n",
    "#else:\n",
    "#    print(\"\\nWARNING: The aeroelastic system is STABLE.\")"
   ]
  },
  {
   "cell_type": "markdown",
   "metadata": {},
   "source": [
    "**Questions:**\n",
    "\n",
    "$\\quad$ 1.1) Find $V_f$ by trial error.\n",
    "\n",
    "$\\quad$ 1.2) Why the natural uncoupled frequencies in pitch and plunge are not recovered by setting the airspeed to zero ?\n",
    "\n",
    "$\\quad$ 1.3) Show that equation (6) consists in an eigenvalue problem for variable $p$."
   ]
  },
  {
   "cell_type": "markdown",
   "metadata": {},
   "source": [
    "  "
   ]
  },
  {
   "cell_type": "markdown",
   "metadata": {},
   "source": [
    "**3.3 SPAN THE WHOLE OPERATING RANGE**"
   ]
  },
  {
   "cell_type": "code",
   "execution_count": 14,
   "metadata": {},
   "outputs": [
    {
     "ename": "SyntaxError",
     "evalue": "unexpected EOF while parsing (<ipython-input-14-82365917188d>, line 19)",
     "output_type": "error",
     "traceback": [
      "\u001b[0;36m  File \u001b[0;32m\"<ipython-input-14-82365917188d>\"\u001b[0;36m, line \u001b[0;32m19\u001b[0m\n\u001b[0;31m    #    frq [:,idx] = freq[:]\u001b[0m\n\u001b[0m                                       ^\u001b[0m\n\u001b[0;31mSyntaxError\u001b[0m\u001b[0;31m:\u001b[0m unexpected EOF while parsing\n"
     ]
    }
   ],
   "source": [
    "V_max = 3\n",
    "V_min = 0\n",
    "nbrun = 100\n",
    "speed_index = np.linspace(V_min, V_max, num=nbrun)\n",
    "#print (speed_index)\n",
    "\n",
    "dmpg = np.zeros((4,nbrun), dtype=float)\n",
    "frq  = np.zeros((4,nbrun), dtype=float)\n",
    "#print(dmpg.shape)\n",
    "\n",
    "for idx, val in enumerate(speed_index):\n",
    "    # compute the corresponding aeroelastic stiffness matrix\n",
    "#    stiff_matrix_aero = ...\n",
    "#    stiff_matrix      = ...\n",
    "\n",
    "    # Solve the flutter determinant\n",
    "#    damping, freq = ...\n",
    "     dmpg[:,idx] = damping[:]\n",
    "     frq [:,idx] = freq[:]         "
   ]
  },
  {
   "cell_type": "markdown",
   "metadata": {},
   "source": [
    "**Questions #2:**\n",
    "\n",
    "$\\quad$  2.1) Code a function to automatically obtain $V_f$ and $\\Omega_f$."
   ]
  },
  {
   "cell_type": "markdown",
   "metadata": {},
   "source": [
    "  "
   ]
  },
  {
   "cell_type": "markdown",
   "metadata": {},
   "source": [
    "**3.4 AEROELASTIC MODES vs AIRSPEED**\n",
    "\n",
    "From a practical point of view, it is common in aeroelastic studies to analyse the modal damping and the modal frequencies as a function of the dimensionless airspeed by means of the $velocity-damping$ diagram."
   ]
  },
  {
   "cell_type": "code",
   "execution_count": 15,
   "metadata": {},
   "outputs": [
    {
     "data": {
      "image/png": "[encoded data removed]",
      "text/plain": [
       "<Figure size 720x720 with 2 Axes>"
      ]
     },
     "metadata": {
      "needs_background": "light"
     },
     "output_type": "display_data"
    }
   ],
   "source": [
    "fig1=plt.figure(figsize=(10,10))\n",
    "plt.subplot(2, 1, 1)\n",
    "plt.title('PAPA flutter diagram using k-method with Therodorsen aerodynamics')\n",
    "plt.plot(speed_index,dmpg[0,:] ,'.')\n",
    "plt.plot(speed_index,dmpg[1,:] ,'.')\n",
    "plt.plot(speed_index,dmpg[2,:] ,'.')\n",
    "plt.plot(speed_index,dmpg[3,:] ,'.')\n",
    "plt.xlabel('dimensionless airspeed V')\n",
    "plt.ylabel('modal damping $\\Gamma_k$')\n",
    "plt.title('PAPA Aeroelastic modes using p-method and steady-flow theory')\n",
    "plt.grid(True)\n",
    "\n",
    "plt.subplot(2,1,2)\n",
    "plt.plot(speed_index,frq[0,:] ,'.')\n",
    "plt.plot(speed_index,frq[1,:] ,'.')\n",
    "plt.plot(speed_index,frq[2,:] ,'.')\n",
    "plt.plot(speed_index,frq[3,:] ,'.')\n",
    "plt.xlabel('dimensionless airspeed V')\n",
    "plt.ylabel('Modal frequency $\\Omega_k$')\n",
    "plt.grid(True)\n",
    "plt.axis([0, 3.5, 0, 1.2])   \n",
    "\n",
    "plt.tight_layout()\n",
    "plt.show()\n",
    "fig1.savefig('./figures/PAPA_p_method_fig1.png')\n",
    "fig1.savefig('./figures/PAPA_p_method_fig1.eps')\n",
    "fig1.savefig('./figures/PAPA_p_method_fig1.pdf')"
   ]
  },
  {
   "cell_type": "markdown",
   "metadata": {},
   "source": [
    "**Questions #3:**\n",
    "\n",
    "$\\quad$  3.1) Why classical flutter is also called **coalescence** flutter or flutter **merging** or **binary** flutter ? \n",
    "\n",
    "$\\quad$  3.2) Which phenomenom is observed for $V=2.75$.\n",
    "\n",
    "$\\quad$  3.3) Code a function to compute $V_D$.\n",
    "\n",
    "$\\quad$  3.4) What means zero aeromechanical damping in term of observed aeroelastic response ?\n",
    "\n",
    "$\\quad$  3.5) Is it realistic to observe zero aeromechanical damping from $V=0$ up to $V_f$ ? \n",
    "\n",
    "$\\quad$  3.6) According to Class Note 1 and the definition of flutter as a dynamic instability, which assumption is not adequate is the present approach ?\n",
    "\n",
    "$\\quad$  3.7) Plot 1D and 2D response surfaces of $V_f$ according to a 15 percent variation in the  aeromechanical parameters. Draw some conclusions about their influence on $V_f$ and identify the optimal configuration. "
   ]
  },
  {
   "cell_type": "markdown",
   "metadata": {},
   "source": [
    "---------------------------------------------------"
   ]
  },
  {
   "cell_type": "markdown",
   "metadata": {},
   "source": [
    "**Reference**\n",
    "\n",
    "[1] D.H. Hodges, G. A. Pierce, \"Introduction to Structural Dynamics and Aeroelasticity \", Cambridge Aerospace series, \n",
    "ISBN 0-521-80698-4, 2002 ( Fig. 4.3 p. 123)"
   ]
  },
  {
   "cell_type": "markdown",
   "metadata": {},
   "source": [
    "-----------------------------------------------------------------------------\n",
    "\n",
    "_End of this notebook_\n",
    "\n"
   ]
  }
 ],
 "metadata": {
  "kernelspec": {
   "display_name": "Python 3",
   "language": "python",
   "name": "python3"
  },
  "language_info": {
   "codemirror_mode": {
    "name": "ipython",
    "version": 3
   },
   "file_extension": ".py",
   "mimetype": "text/x-python",
   "name": "python",
   "nbconvert_exporter": "python",
   "pygments_lexer": "ipython3",
   "version": "3.6.5"
  },
  "latex_envs": {
   "LaTeX_envs_menu_present": true,
   "autoclose": false,
   "autocomplete": true,
   "bibliofile": "biblio.bib",
   "cite_by": "apalike",
   "current_citInitial": 1,
   "eqLabelWithNumbers": true,
   "eqNumInitial": 1,
   "hotkeys": {
    "equation": "Ctrl-E",
    "itemize": "Ctrl-I"
   },
   "labels_anchors": false,
   "latex_user_defs": false,
   "report_style_numbering": false,
   "user_envs_cfg": false
  }
 },
 "nbformat": 4,
 "nbformat_minor": 2
}
